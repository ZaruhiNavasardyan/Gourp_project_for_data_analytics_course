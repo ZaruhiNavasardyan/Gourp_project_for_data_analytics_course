{
 "cells": [
  {
   "cell_type": "code",
   "execution_count": 1,
   "metadata": {},
   "outputs": [],
   "source": [
    "import numpy as np\n",
    "import pandas as pd\n",
    "import scipy as sp\n",
    "from lifetimes.datasets import *\n",
    "import datetime\n",
    "import matplotlib.pyplot as plt\n",
    "from lifetimes import BetaGeoFitter\n",
    "from lifetimes.plotting import plot_frequency_recency_matrix\n",
    "from lifetimes.plotting import plot_probability_alive_matrix\n",
    "from lifetimes.plotting import plot_period_transactions\n",
    "from lifetimes import GammaGammaFitter"
   ]
  },
  {
   "cell_type": "markdown",
   "metadata": {},
   "source": [
    "## RFM(Recency/Frequency/Monetary) for Customer"
   ]
  },
  {
   "cell_type": "code",
   "execution_count": 2,
   "metadata": {},
   "outputs": [],
   "source": [
    "rfm_customer = pd.read_excel(\"GG_all_final.xlsx\", sheet_name=\"RFM_customer\")"
   ]
  },
  {
   "cell_type": "code",
   "execution_count": 3,
   "metadata": {},
   "outputs": [
    {
     "data": {
      "text/html": [
       "<div>\n",
       "<style scoped>\n",
       "    .dataframe tbody tr th:only-of-type {\n",
       "        vertical-align: middle;\n",
       "    }\n",
       "\n",
       "    .dataframe tbody tr th {\n",
       "        vertical-align: top;\n",
       "    }\n",
       "\n",
       "    .dataframe thead th {\n",
       "        text-align: right;\n",
       "    }\n",
       "</style>\n",
       "<table border=\"1\" class=\"dataframe\">\n",
       "  <thead>\n",
       "    <tr style=\"text-align: right;\">\n",
       "      <th></th>\n",
       "      <th>User_unique</th>\n",
       "      <th>Min_of_created_date</th>\n",
       "      <th>Max_of_created_date</th>\n",
       "      <th>Count_of_orderId</th>\n",
       "      <th>Frequency</th>\n",
       "      <th>Recency</th>\n",
       "      <th>T</th>\n",
       "      <th>Monetary</th>\n",
       "    </tr>\n",
       "  </thead>\n",
       "  <tbody>\n",
       "    <tr>\n",
       "      <th>0</th>\n",
       "      <td>1</td>\n",
       "      <td>2016-01-03</td>\n",
       "      <td>2016-07-20</td>\n",
       "      <td>474</td>\n",
       "      <td>473</td>\n",
       "      <td>199</td>\n",
       "      <td>199</td>\n",
       "      <td>317100.0</td>\n",
       "    </tr>\n",
       "    <tr>\n",
       "      <th>1</th>\n",
       "      <td>2</td>\n",
       "      <td>2016-01-04</td>\n",
       "      <td>2016-02-07</td>\n",
       "      <td>4</td>\n",
       "      <td>3</td>\n",
       "      <td>34</td>\n",
       "      <td>198</td>\n",
       "      <td>5700.0</td>\n",
       "    </tr>\n",
       "    <tr>\n",
       "      <th>2</th>\n",
       "      <td>12</td>\n",
       "      <td>2016-06-12</td>\n",
       "      <td>2016-06-12</td>\n",
       "      <td>1</td>\n",
       "      <td>0</td>\n",
       "      <td>0</td>\n",
       "      <td>38</td>\n",
       "      <td>31100.0</td>\n",
       "    </tr>\n",
       "    <tr>\n",
       "      <th>3</th>\n",
       "      <td>23</td>\n",
       "      <td>2016-01-28</td>\n",
       "      <td>2016-06-23</td>\n",
       "      <td>3</td>\n",
       "      <td>2</td>\n",
       "      <td>147</td>\n",
       "      <td>174</td>\n",
       "      <td>3500.0</td>\n",
       "    </tr>\n",
       "    <tr>\n",
       "      <th>4</th>\n",
       "      <td>32</td>\n",
       "      <td>2016-01-23</td>\n",
       "      <td>2016-01-28</td>\n",
       "      <td>2</td>\n",
       "      <td>1</td>\n",
       "      <td>5</td>\n",
       "      <td>179</td>\n",
       "      <td>1100.0</td>\n",
       "    </tr>\n",
       "  </tbody>\n",
       "</table>\n",
       "</div>"
      ],
      "text/plain": [
       "   User_unique Min_of_created_date Max_of_created_date  Count_of_orderId  \\\n",
       "0            1          2016-01-03          2016-07-20               474   \n",
       "1            2          2016-01-04          2016-02-07                 4   \n",
       "2           12          2016-06-12          2016-06-12                 1   \n",
       "3           23          2016-01-28          2016-06-23                 3   \n",
       "4           32          2016-01-23          2016-01-28                 2   \n",
       "\n",
       "   Frequency  Recency    T  Monetary  \n",
       "0        473      199  199  317100.0  \n",
       "1          3       34  198    5700.0  \n",
       "2          0        0   38   31100.0  \n",
       "3          2      147  174    3500.0  \n",
       "4          1        5  179    1100.0  "
      ]
     },
     "execution_count": 3,
     "metadata": {},
     "output_type": "execute_result"
    }
   ],
   "source": [
    "rfm_customer.head()"
   ]
  },
  {
   "cell_type": "code",
   "execution_count": 4,
   "metadata": {},
   "outputs": [],
   "source": [
    "rfm_customer=rfm_customer.drop(['Min_of_created_date', 'Max_of_created_date', 'Count_of_orderId'], axis=1)"
   ]
  },
  {
   "cell_type": "code",
   "execution_count": 5,
   "metadata": {},
   "outputs": [
    {
     "data": {
      "text/plain": [
       "<lifetimes.BetaGeoFitter: fitted with 60488 subjects, a: 0.25, alpha: 0.00, b: 0.23, r: 0.06>"
      ]
     },
     "execution_count": 5,
     "metadata": {},
     "output_type": "execute_result"
    }
   ],
   "source": [
    "bgf = BetaGeoFitter()\n",
    "bgf.fit(rfm_customer['Frequency'], rfm_customer['Recency'], rfm_customer['T'])"
   ]
  },
  {
   "cell_type": "code",
   "execution_count": 6,
   "metadata": {},
   "outputs": [
    {
     "name": "stderr",
     "output_type": "stream",
     "text": [
      "C:\\Users\\Acer\\Anaconda3\\lib\\site-packages\\lifetimes\\fitters\\beta_geo_fitter.py:215: RuntimeWarning: overflow encountered in double_scalars\n",
      "  ((alpha + T) / (alpha + recency)) ** (r + x)\n"
     ]
    },
    {
     "data": {
      "image/png": "[encoded data removed]",
      "text/plain": [
       "<Figure size 720x720 with 2 Axes>"
      ]
     },
     "metadata": {},
     "output_type": "display_data"
    }
   ],
   "source": [
    "%matplotlib inline\n",
    "plt.figure(figsize=(10,10))\n",
    "plot_frequency_recency_matrix(bgf)\n",
    "plt.show()"
   ]
  },
  {
   "cell_type": "code",
   "execution_count": 7,
   "metadata": {},
   "outputs": [
    {
     "data": {
      "image/png": "[encoded data removed]",
      "text/plain": [
       "<Figure size 720x720 with 2 Axes>"
      ]
     },
     "metadata": {},
     "output_type": "display_data"
    }
   ],
   "source": [
    "plt.figure(figsize=(10,10))\n",
    "plot_probability_alive_matrix(bgf)\n",
    "plt.show()"
   ]
  },
  {
   "cell_type": "code",
   "execution_count": 8,
   "metadata": {},
   "outputs": [
    {
     "name": "stderr",
     "output_type": "stream",
     "text": [
      "C:\\Users\\Acer\\Anaconda3\\lib\\site-packages\\lifetimes\\fitters\\beta_geo_fitter.py:206: RuntimeWarning: invalid value encountered in log\n",
      "  ln_hyp_term_alt = np.log(hyp2f1(_c - _a, _c - _b, _c, _z)) + \\\n",
      "C:\\Users\\Acer\\Anaconda3\\lib\\site-packages\\lifetimes\\fitters\\beta_geo_fitter.py:207: RuntimeWarning: divide by zero encountered in log\n",
      "  (_c - _a - _b) * np.log(1 - _z)\n"
     ]
    }
   ],
   "source": [
    "t =30\n",
    "rfm_customer['predicted_orders'] = bgf.conditional_expected_number_of_purchases_up_to_time(\n",
    "    t, rfm_customer['Frequency'], rfm_customer['Recency'], rfm_customer['T'])"
   ]
  },
  {
   "cell_type": "code",
   "execution_count": 9,
   "metadata": {},
   "outputs": [
    {
     "data": {
      "text/html": [
       "<div>\n",
       "<style scoped>\n",
       "    .dataframe tbody tr th:only-of-type {\n",
       "        vertical-align: middle;\n",
       "    }\n",
       "\n",
       "    .dataframe tbody tr th {\n",
       "        vertical-align: top;\n",
       "    }\n",
       "\n",
       "    .dataframe thead th {\n",
       "        text-align: right;\n",
       "    }\n",
       "</style>\n",
       "<table border=\"1\" class=\"dataframe\">\n",
       "  <thead>\n",
       "    <tr style=\"text-align: right;\">\n",
       "      <th></th>\n",
       "      <th>User_unique</th>\n",
       "      <th>Frequency</th>\n",
       "      <th>Recency</th>\n",
       "      <th>T</th>\n",
       "      <th>Monetary</th>\n",
       "      <th>predicted_orders</th>\n",
       "    </tr>\n",
       "  </thead>\n",
       "  <tbody>\n",
       "    <tr>\n",
       "      <th>0</th>\n",
       "      <td>1</td>\n",
       "      <td>473</td>\n",
       "      <td>199</td>\n",
       "      <td>199</td>\n",
       "      <td>317100.0</td>\n",
       "      <td>69.992934</td>\n",
       "    </tr>\n",
       "    <tr>\n",
       "      <th>1</th>\n",
       "      <td>2</td>\n",
       "      <td>3</td>\n",
       "      <td>34</td>\n",
       "      <td>198</td>\n",
       "      <td>5700.0</td>\n",
       "      <td>0.017421</td>\n",
       "    </tr>\n",
       "    <tr>\n",
       "      <th>2</th>\n",
       "      <td>12</td>\n",
       "      <td>0</td>\n",
       "      <td>0</td>\n",
       "      <td>38</td>\n",
       "      <td>31100.0</td>\n",
       "      <td>0.042033</td>\n",
       "    </tr>\n",
       "    <tr>\n",
       "      <th>3</th>\n",
       "      <td>23</td>\n",
       "      <td>2</td>\n",
       "      <td>147</td>\n",
       "      <td>174</td>\n",
       "      <td>3500.0</td>\n",
       "      <td>0.268490</td>\n",
       "    </tr>\n",
       "    <tr>\n",
       "      <th>4</th>\n",
       "      <td>32</td>\n",
       "      <td>1</td>\n",
       "      <td>5</td>\n",
       "      <td>179</td>\n",
       "      <td>1100.0</td>\n",
       "      <td>0.003450</td>\n",
       "    </tr>\n",
       "  </tbody>\n",
       "</table>\n",
       "</div>"
      ],
      "text/plain": [
       "   User_unique  Frequency  Recency    T  Monetary  predicted_orders\n",
       "0            1        473      199  199  317100.0         69.992934\n",
       "1            2          3       34  198    5700.0          0.017421\n",
       "2           12          0        0   38   31100.0          0.042033\n",
       "3           23          2      147  174    3500.0          0.268490\n",
       "4           32          1        5  179    1100.0          0.003450"
      ]
     },
     "execution_count": 9,
     "metadata": {},
     "output_type": "execute_result"
    }
   ],
   "source": [
    "returning = rfm_customer[rfm_customer['Frequency']>0]\n",
    "returning=rfm_customer[rfm_customer['Monetary']>0]\n",
    "returning.head()"
   ]
  },
  {
   "cell_type": "code",
   "execution_count": 10,
   "metadata": {},
   "outputs": [
    {
     "name": "stderr",
     "output_type": "stream",
     "text": [
      "C:\\Users\\Acer\\Anaconda3\\lib\\site-packages\\lifetimes\\fitters\\gamma_gamma_fitter.py:68: RuntimeWarning: divide by zero encountered in log\n",
      "  (p * x) * np.log(x) -\n"
     ]
    },
    {
     "data": {
      "text/plain": [
       "<lifetimes.GammaGammaFitter: fitted with 48317 subjects, p: 0.50, q: 1.28, v: 19431.93>"
      ]
     },
     "execution_count": 10,
     "metadata": {},
     "output_type": "execute_result"
    }
   ],
   "source": [
    "ggf = GammaGammaFitter()\n",
    "ggf.fit(frequency=returning['Frequency'],monetary_value=returning['Monetary'])"
   ]
  },
  {
   "cell_type": "code",
   "execution_count": 11,
   "metadata": {},
   "outputs": [
    {
     "data": {
      "text/html": [
       "<div>\n",
       "<style scoped>\n",
       "    .dataframe tbody tr th:only-of-type {\n",
       "        vertical-align: middle;\n",
       "    }\n",
       "\n",
       "    .dataframe tbody tr th {\n",
       "        vertical-align: top;\n",
       "    }\n",
       "\n",
       "    .dataframe thead th {\n",
       "        text-align: right;\n",
       "    }\n",
       "</style>\n",
       "<table border=\"1\" class=\"dataframe\">\n",
       "  <thead>\n",
       "    <tr style=\"text-align: right;\">\n",
       "      <th></th>\n",
       "      <th>customer_unique</th>\n",
       "      <th>CLV</th>\n",
       "    </tr>\n",
       "  </thead>\n",
       "  <tbody>\n",
       "    <tr>\n",
       "      <th>0</th>\n",
       "      <td>1</td>\n",
       "      <td>316773.416237</td>\n",
       "    </tr>\n",
       "    <tr>\n",
       "      <th>1</th>\n",
       "      <td>2</td>\n",
       "      <td>10293.607269</td>\n",
       "    </tr>\n",
       "    <tr>\n",
       "      <th>2</th>\n",
       "      <td>12</td>\n",
       "      <td>35395.655324</td>\n",
       "    </tr>\n",
       "    <tr>\n",
       "      <th>3</th>\n",
       "      <td>23</td>\n",
       "      <td>10369.561715</td>\n",
       "    </tr>\n",
       "    <tr>\n",
       "      <th>4</th>\n",
       "      <td>32</td>\n",
       "      <td>13255.026531</td>\n",
       "    </tr>\n",
       "  </tbody>\n",
       "</table>\n",
       "</div>"
      ],
      "text/plain": [
       "   customer_unique            CLV\n",
       "0                1  316773.416237\n",
       "1                2   10293.607269\n",
       "2               12   35395.655324\n",
       "3               23   10369.561715\n",
       "4               32   13255.026531"
      ]
     },
     "execution_count": 11,
     "metadata": {},
     "output_type": "execute_result"
    }
   ],
   "source": [
    "CLV = ggf.conditional_expected_average_profit(returning['Frequency'], returning[\"Monetary\"])\n",
    "CLV=pd.DataFrame({\"customer_unique\":returning.User_unique ,\"CLV\": CLV})\n",
    "CLV.head()"
   ]
  },
  {
   "cell_type": "code",
   "execution_count": 23,
   "metadata": {},
   "outputs": [
    {
     "data": {
      "text/html": [
       "<div>\n",
       "<style scoped>\n",
       "    .dataframe tbody tr th:only-of-type {\n",
       "        vertical-align: middle;\n",
       "    }\n",
       "\n",
       "    .dataframe tbody tr th {\n",
       "        vertical-align: top;\n",
       "    }\n",
       "\n",
       "    .dataframe thead th {\n",
       "        text-align: right;\n",
       "    }\n",
       "</style>\n",
       "<table border=\"1\" class=\"dataframe\">\n",
       "  <thead>\n",
       "    <tr style=\"text-align: right;\">\n",
       "      <th></th>\n",
       "      <th>customer_unique</th>\n",
       "      <th>CLV</th>\n",
       "    </tr>\n",
       "  </thead>\n",
       "  <tbody>\n",
       "    <tr>\n",
       "      <th>count</th>\n",
       "      <td>48317.000000</td>\n",
       "      <td>4.831700e+04</td>\n",
       "    </tr>\n",
       "    <tr>\n",
       "      <th>mean</th>\n",
       "      <td>68213.946292</td>\n",
       "      <td>2.460158e+04</td>\n",
       "    </tr>\n",
       "    <tr>\n",
       "      <th>std</th>\n",
       "      <td>35535.120469</td>\n",
       "      <td>3.436353e+04</td>\n",
       "    </tr>\n",
       "    <tr>\n",
       "      <th>min</th>\n",
       "      <td>1.000000</td>\n",
       "      <td>4.440534e+02</td>\n",
       "    </tr>\n",
       "    <tr>\n",
       "      <th>25%</th>\n",
       "      <td>38211.000000</td>\n",
       "      <td>8.672157e+03</td>\n",
       "    </tr>\n",
       "    <tr>\n",
       "      <th>50%</th>\n",
       "      <td>70944.000000</td>\n",
       "      <td>1.359833e+04</td>\n",
       "    </tr>\n",
       "    <tr>\n",
       "      <th>75%</th>\n",
       "      <td>98995.000000</td>\n",
       "      <td>3.539566e+04</td>\n",
       "    </tr>\n",
       "    <tr>\n",
       "      <th>max</th>\n",
       "      <td>137499.000000</td>\n",
       "      <td>2.926613e+06</td>\n",
       "    </tr>\n",
       "  </tbody>\n",
       "</table>\n",
       "</div>"
      ],
      "text/plain": [
       "       customer_unique           CLV\n",
       "count     48317.000000  4.831700e+04\n",
       "mean      68213.946292  2.460158e+04\n",
       "std       35535.120469  3.436353e+04\n",
       "min           1.000000  4.440534e+02\n",
       "25%       38211.000000  8.672157e+03\n",
       "50%       70944.000000  1.359833e+04\n",
       "75%       98995.000000  3.539566e+04\n",
       "max      137499.000000  2.926613e+06"
      ]
     },
     "execution_count": 23,
     "metadata": {},
     "output_type": "execute_result"
    }
   ],
   "source": [
    "CLV.describe()"
   ]
  },
  {
   "cell_type": "markdown",
   "metadata": {},
   "source": [
    "## RFM Partner"
   ]
  },
  {
   "cell_type": "code",
   "execution_count": 12,
   "metadata": {},
   "outputs": [],
   "source": [
    "rfm_partner = pd.read_excel(\"GG_all_final.xlsx\", sheet_name=\"RFM_partner\")"
   ]
  },
  {
   "cell_type": "code",
   "execution_count": 13,
   "metadata": {},
   "outputs": [
    {
     "data": {
      "text/html": [
       "<div>\n",
       "<style scoped>\n",
       "    .dataframe tbody tr th:only-of-type {\n",
       "        vertical-align: middle;\n",
       "    }\n",
       "\n",
       "    .dataframe tbody tr th {\n",
       "        vertical-align: top;\n",
       "    }\n",
       "\n",
       "    .dataframe thead th {\n",
       "        text-align: right;\n",
       "    }\n",
       "</style>\n",
       "<table border=\"1\" class=\"dataframe\">\n",
       "  <thead>\n",
       "    <tr style=\"text-align: right;\">\n",
       "      <th></th>\n",
       "      <th>Partner_unique</th>\n",
       "      <th>Min_of_created_date</th>\n",
       "      <th>Max_of_created_date</th>\n",
       "      <th>Count_of_orderId</th>\n",
       "      <th>Frequency</th>\n",
       "      <th>Recency</th>\n",
       "      <th>T</th>\n",
       "      <th>Monetary</th>\n",
       "    </tr>\n",
       "  </thead>\n",
       "  <tbody>\n",
       "    <tr>\n",
       "      <th>0</th>\n",
       "      <td>100004.0</td>\n",
       "      <td>2016-05-05</td>\n",
       "      <td>2016-07-19</td>\n",
       "      <td>202</td>\n",
       "      <td>201</td>\n",
       "      <td>75</td>\n",
       "      <td>76</td>\n",
       "      <td>194800.0</td>\n",
       "    </tr>\n",
       "    <tr>\n",
       "      <th>1</th>\n",
       "      <td>100176.0</td>\n",
       "      <td>2016-05-03</td>\n",
       "      <td>2016-07-13</td>\n",
       "      <td>393</td>\n",
       "      <td>392</td>\n",
       "      <td>71</td>\n",
       "      <td>78</td>\n",
       "      <td>389200.0</td>\n",
       "    </tr>\n",
       "    <tr>\n",
       "      <th>2</th>\n",
       "      <td>100180.0</td>\n",
       "      <td>2016-05-02</td>\n",
       "      <td>2016-07-20</td>\n",
       "      <td>531</td>\n",
       "      <td>530</td>\n",
       "      <td>79</td>\n",
       "      <td>79</td>\n",
       "      <td>521700.0</td>\n",
       "    </tr>\n",
       "    <tr>\n",
       "      <th>3</th>\n",
       "      <td>100189.0</td>\n",
       "      <td>2016-05-03</td>\n",
       "      <td>2016-07-12</td>\n",
       "      <td>196</td>\n",
       "      <td>195</td>\n",
       "      <td>70</td>\n",
       "      <td>78</td>\n",
       "      <td>182800.0</td>\n",
       "    </tr>\n",
       "    <tr>\n",
       "      <th>4</th>\n",
       "      <td>100203.0</td>\n",
       "      <td>2016-05-03</td>\n",
       "      <td>2016-05-20</td>\n",
       "      <td>56</td>\n",
       "      <td>55</td>\n",
       "      <td>17</td>\n",
       "      <td>78</td>\n",
       "      <td>54600.0</td>\n",
       "    </tr>\n",
       "  </tbody>\n",
       "</table>\n",
       "</div>"
      ],
      "text/plain": [
       "   Partner_unique Min_of_created_date Max_of_created_date  Count_of_orderId  \\\n",
       "0        100004.0          2016-05-05          2016-07-19               202   \n",
       "1        100176.0          2016-05-03          2016-07-13               393   \n",
       "2        100180.0          2016-05-02          2016-07-20               531   \n",
       "3        100189.0          2016-05-03          2016-07-12               196   \n",
       "4        100203.0          2016-05-03          2016-05-20                56   \n",
       "\n",
       "   Frequency  Recency   T  Monetary  \n",
       "0        201       75  76  194800.0  \n",
       "1        392       71  78  389200.0  \n",
       "2        530       79  79  521700.0  \n",
       "3        195       70  78  182800.0  \n",
       "4         55       17  78   54600.0  "
      ]
     },
     "execution_count": 13,
     "metadata": {},
     "output_type": "execute_result"
    }
   ],
   "source": [
    "rfm_partner.head()"
   ]
  },
  {
   "cell_type": "code",
   "execution_count": 14,
   "metadata": {},
   "outputs": [],
   "source": [
    "rfm_partner=rfm_partner.drop(['Min_of_created_date', 'Max_of_created_date', 'Count_of_orderId'], axis=1)"
   ]
  },
  {
   "cell_type": "code",
   "execution_count": 15,
   "metadata": {},
   "outputs": [
    {
     "name": "stderr",
     "output_type": "stream",
     "text": [
      "C:\\Users\\Acer\\Anaconda3\\lib\\site-packages\\lifetimes\\fitters\\beta_geo_fitter.py:206: RuntimeWarning: invalid value encountered in log\n",
      "  ln_hyp_term_alt = np.log(hyp2f1(_c - _a, _c - _b, _c, _z)) + \\\n",
      "C:\\Users\\Acer\\Anaconda3\\lib\\site-packages\\lifetimes\\fitters\\beta_geo_fitter.py:207: RuntimeWarning: divide by zero encountered in log\n",
      "  (_c - _a - _b) * np.log(1 - _z)\n"
     ]
    },
    {
     "data": {
      "text/html": [
       "<div>\n",
       "<style scoped>\n",
       "    .dataframe tbody tr th:only-of-type {\n",
       "        vertical-align: middle;\n",
       "    }\n",
       "\n",
       "    .dataframe tbody tr th {\n",
       "        vertical-align: top;\n",
       "    }\n",
       "\n",
       "    .dataframe thead th {\n",
       "        text-align: right;\n",
       "    }\n",
       "</style>\n",
       "<table border=\"1\" class=\"dataframe\">\n",
       "  <thead>\n",
       "    <tr style=\"text-align: right;\">\n",
       "      <th></th>\n",
       "      <th>Partner_unique</th>\n",
       "      <th>Frequency</th>\n",
       "      <th>Recency</th>\n",
       "      <th>T</th>\n",
       "      <th>Monetary</th>\n",
       "      <th>predicted_orders</th>\n",
       "    </tr>\n",
       "  </thead>\n",
       "  <tbody>\n",
       "    <tr>\n",
       "      <th>0</th>\n",
       "      <td>100004.0</td>\n",
       "      <td>201</td>\n",
       "      <td>75</td>\n",
       "      <td>76</td>\n",
       "      <td>194800.0</td>\n",
       "      <td>7.457025e+01</td>\n",
       "    </tr>\n",
       "    <tr>\n",
       "      <th>1</th>\n",
       "      <td>100176.0</td>\n",
       "      <td>392</td>\n",
       "      <td>71</td>\n",
       "      <td>78</td>\n",
       "      <td>389200.0</td>\n",
       "      <td>2.175169e-11</td>\n",
       "    </tr>\n",
       "    <tr>\n",
       "      <th>2</th>\n",
       "      <td>100180.0</td>\n",
       "      <td>530</td>\n",
       "      <td>79</td>\n",
       "      <td>79</td>\n",
       "      <td>521700.0</td>\n",
       "      <td>1.927701e+02</td>\n",
       "    </tr>\n",
       "    <tr>\n",
       "      <th>3</th>\n",
       "      <td>100189.0</td>\n",
       "      <td>195</td>\n",
       "      <td>70</td>\n",
       "      <td>78</td>\n",
       "      <td>182800.0</td>\n",
       "      <td>3.743401e-05</td>\n",
       "    </tr>\n",
       "    <tr>\n",
       "      <th>4</th>\n",
       "      <td>100203.0</td>\n",
       "      <td>55</td>\n",
       "      <td>17</td>\n",
       "      <td>78</td>\n",
       "      <td>54600.0</td>\n",
       "      <td>1.602884e-33</td>\n",
       "    </tr>\n",
       "  </tbody>\n",
       "</table>\n",
       "</div>"
      ],
      "text/plain": [
       "   Partner_unique  Frequency  Recency   T  Monetary  predicted_orders\n",
       "0        100004.0        201       75  76  194800.0      7.457025e+01\n",
       "1        100176.0        392       71  78  389200.0      2.175169e-11\n",
       "2        100180.0        530       79  79  521700.0      1.927701e+02\n",
       "3        100189.0        195       70  78  182800.0      3.743401e-05\n",
       "4        100203.0         55       17  78   54600.0      1.602884e-33"
      ]
     },
     "execution_count": 15,
     "metadata": {},
     "output_type": "execute_result"
    }
   ],
   "source": [
    "t =30\n",
    "rfm_partner['predicted_orders'] = bgf.conditional_expected_number_of_purchases_up_to_time(\n",
    "    t,rfm_partner['Frequency'], rfm_partner['Recency'], rfm_partner['T'])\n",
    "rfm_partner.head()"
   ]
  },
  {
   "cell_type": "code",
   "execution_count": 16,
   "metadata": {},
   "outputs": [
    {
     "data": {
      "text/html": [
       "<div>\n",
       "<style scoped>\n",
       "    .dataframe tbody tr th:only-of-type {\n",
       "        vertical-align: middle;\n",
       "    }\n",
       "\n",
       "    .dataframe tbody tr th {\n",
       "        vertical-align: top;\n",
       "    }\n",
       "\n",
       "    .dataframe thead th {\n",
       "        text-align: right;\n",
       "    }\n",
       "</style>\n",
       "<table border=\"1\" class=\"dataframe\">\n",
       "  <thead>\n",
       "    <tr style=\"text-align: right;\">\n",
       "      <th></th>\n",
       "      <th>Partner_unique</th>\n",
       "      <th>Frequency</th>\n",
       "      <th>Recency</th>\n",
       "      <th>T</th>\n",
       "      <th>Monetary</th>\n",
       "      <th>predicted_orders</th>\n",
       "    </tr>\n",
       "  </thead>\n",
       "  <tbody>\n",
       "    <tr>\n",
       "      <th>0</th>\n",
       "      <td>100004.0</td>\n",
       "      <td>201</td>\n",
       "      <td>75</td>\n",
       "      <td>76</td>\n",
       "      <td>194800.0</td>\n",
       "      <td>7.457025e+01</td>\n",
       "    </tr>\n",
       "    <tr>\n",
       "      <th>1</th>\n",
       "      <td>100176.0</td>\n",
       "      <td>392</td>\n",
       "      <td>71</td>\n",
       "      <td>78</td>\n",
       "      <td>389200.0</td>\n",
       "      <td>2.175169e-11</td>\n",
       "    </tr>\n",
       "    <tr>\n",
       "      <th>2</th>\n",
       "      <td>100180.0</td>\n",
       "      <td>530</td>\n",
       "      <td>79</td>\n",
       "      <td>79</td>\n",
       "      <td>521700.0</td>\n",
       "      <td>1.927701e+02</td>\n",
       "    </tr>\n",
       "    <tr>\n",
       "      <th>3</th>\n",
       "      <td>100189.0</td>\n",
       "      <td>195</td>\n",
       "      <td>70</td>\n",
       "      <td>78</td>\n",
       "      <td>182800.0</td>\n",
       "      <td>3.743401e-05</td>\n",
       "    </tr>\n",
       "    <tr>\n",
       "      <th>4</th>\n",
       "      <td>100203.0</td>\n",
       "      <td>55</td>\n",
       "      <td>17</td>\n",
       "      <td>78</td>\n",
       "      <td>54600.0</td>\n",
       "      <td>1.602884e-33</td>\n",
       "    </tr>\n",
       "  </tbody>\n",
       "</table>\n",
       "</div>"
      ],
      "text/plain": [
       "   Partner_unique  Frequency  Recency   T  Monetary  predicted_orders\n",
       "0        100004.0        201       75  76  194800.0      7.457025e+01\n",
       "1        100176.0        392       71  78  389200.0      2.175169e-11\n",
       "2        100180.0        530       79  79  521700.0      1.927701e+02\n",
       "3        100189.0        195       70  78  182800.0      3.743401e-05\n",
       "4        100203.0         55       17  78   54600.0      1.602884e-33"
      ]
     },
     "execution_count": 16,
     "metadata": {},
     "output_type": "execute_result"
    }
   ],
   "source": [
    "part= rfm_partner[rfm_partner['Monetary']>0]\n",
    "part.head()"
   ]
  },
  {
   "cell_type": "code",
   "execution_count": 17,
   "metadata": {},
   "outputs": [
    {
     "name": "stderr",
     "output_type": "stream",
     "text": [
      "C:\\Users\\Acer\\Anaconda3\\lib\\site-packages\\lifetimes\\fitters\\gamma_gamma_fitter.py:68: RuntimeWarning: divide by zero encountered in log\n",
      "  (p * x) * np.log(x) -\n"
     ]
    },
    {
     "data": {
      "text/plain": [
       "<lifetimes.GammaGammaFitter: fitted with 1967 subjects, p: 0.01, q: 2.73, v: 81595489.59>"
      ]
     },
     "execution_count": 17,
     "metadata": {},
     "output_type": "execute_result"
    }
   ],
   "source": [
    "ggf = GammaGammaFitter()\n",
    "ggf.fit(part['Frequency'], part['Monetary'])"
   ]
  },
  {
   "cell_type": "code",
   "execution_count": 18,
   "metadata": {},
   "outputs": [],
   "source": [
    "PLV = ggf.conditional_expected_average_profit(rfm_partner['Frequency'], rfm_partner['Monetary'])\n",
    "PLV=pd.DataFrame({\"partner_unique\":part.Partner_unique,\"PLV\": PLV})"
   ]
  },
  {
   "cell_type": "code",
   "execution_count": 19,
   "metadata": {},
   "outputs": [
    {
     "data": {
      "text/html": [
       "<div>\n",
       "<style scoped>\n",
       "    .dataframe tbody tr th:only-of-type {\n",
       "        vertical-align: middle;\n",
       "    }\n",
       "\n",
       "    .dataframe tbody tr th {\n",
       "        vertical-align: top;\n",
       "    }\n",
       "\n",
       "    .dataframe thead th {\n",
       "        text-align: right;\n",
       "    }\n",
       "</style>\n",
       "<table border=\"1\" class=\"dataframe\">\n",
       "  <thead>\n",
       "    <tr style=\"text-align: right;\">\n",
       "      <th></th>\n",
       "      <th>partner_unique</th>\n",
       "      <th>PLV</th>\n",
       "    </tr>\n",
       "  </thead>\n",
       "  <tbody>\n",
       "    <tr>\n",
       "      <th>0</th>\n",
       "      <td>100004.0</td>\n",
       "      <td>362288.342671</td>\n",
       "    </tr>\n",
       "    <tr>\n",
       "      <th>1</th>\n",
       "      <td>100176.0</td>\n",
       "      <td>446619.113518</td>\n",
       "    </tr>\n",
       "    <tr>\n",
       "      <th>2</th>\n",
       "      <td>100180.0</td>\n",
       "      <td>540687.164394</td>\n",
       "    </tr>\n",
       "    <tr>\n",
       "      <th>3</th>\n",
       "      <td>100189.0</td>\n",
       "      <td>358209.287930</td>\n",
       "    </tr>\n",
       "    <tr>\n",
       "      <th>4</th>\n",
       "      <td>100203.0</td>\n",
       "      <td>451676.492318</td>\n",
       "    </tr>\n",
       "  </tbody>\n",
       "</table>\n",
       "</div>"
      ],
      "text/plain": [
       "   partner_unique            PLV\n",
       "0        100004.0  362288.342671\n",
       "1        100176.0  446619.113518\n",
       "2        100180.0  540687.164394\n",
       "3        100189.0  358209.287930\n",
       "4        100203.0  451676.492318"
      ]
     },
     "execution_count": 19,
     "metadata": {},
     "output_type": "execute_result"
    }
   ],
   "source": [
    "PLV.head()"
   ]
  },
  {
   "cell_type": "code",
   "execution_count": 26,
   "metadata": {},
   "outputs": [
    {
     "data": {
      "text/html": [
       "<div>\n",
       "<style scoped>\n",
       "    .dataframe tbody tr th:only-of-type {\n",
       "        vertical-align: middle;\n",
       "    }\n",
       "\n",
       "    .dataframe tbody tr th {\n",
       "        vertical-align: top;\n",
       "    }\n",
       "\n",
       "    .dataframe thead th {\n",
       "        text-align: right;\n",
       "    }\n",
       "</style>\n",
       "<table border=\"1\" class=\"dataframe\">\n",
       "  <thead>\n",
       "    <tr style=\"text-align: right;\">\n",
       "      <th></th>\n",
       "      <th>partner_unique</th>\n",
       "      <th>PLV</th>\n",
       "    </tr>\n",
       "  </thead>\n",
       "  <tbody>\n",
       "    <tr>\n",
       "      <th>count</th>\n",
       "      <td>1966.000000</td>\n",
       "      <td>1.979000e+03</td>\n",
       "    </tr>\n",
       "    <tr>\n",
       "      <th>mean</th>\n",
       "      <td>69825.229908</td>\n",
       "      <td>5.888026e+05</td>\n",
       "    </tr>\n",
       "    <tr>\n",
       "      <th>std</th>\n",
       "      <td>39376.925929</td>\n",
       "      <td>3.204105e+05</td>\n",
       "    </tr>\n",
       "    <tr>\n",
       "      <th>min</th>\n",
       "      <td>2.000000</td>\n",
       "      <td>2.182604e+04</td>\n",
       "    </tr>\n",
       "    <tr>\n",
       "      <th>25%</th>\n",
       "      <td>43178.750000</td>\n",
       "      <td>3.918434e+05</td>\n",
       "    </tr>\n",
       "    <tr>\n",
       "      <th>50%</th>\n",
       "      <td>75071.000000</td>\n",
       "      <td>4.805377e+05</td>\n",
       "    </tr>\n",
       "    <tr>\n",
       "      <th>75%</th>\n",
       "      <td>104120.000000</td>\n",
       "      <td>6.167513e+05</td>\n",
       "    </tr>\n",
       "    <tr>\n",
       "      <th>max</th>\n",
       "      <td>137477.000000</td>\n",
       "      <td>2.874670e+06</td>\n",
       "    </tr>\n",
       "  </tbody>\n",
       "</table>\n",
       "</div>"
      ],
      "text/plain": [
       "       partner_unique           PLV\n",
       "count     1966.000000  1.979000e+03\n",
       "mean     69825.229908  5.888026e+05\n",
       "std      39376.925929  3.204105e+05\n",
       "min          2.000000  2.182604e+04\n",
       "25%      43178.750000  3.918434e+05\n",
       "50%      75071.000000  4.805377e+05\n",
       "75%     104120.000000  6.167513e+05\n",
       "max     137477.000000  2.874670e+06"
      ]
     },
     "execution_count": 26,
     "metadata": {},
     "output_type": "execute_result"
    }
   ],
   "source": [
    "PLV.describe()"
   ]
  },
  {
   "cell_type": "code",
   "execution_count": null,
   "metadata": {},
   "outputs": [],
   "source": []
  }
 ],
 "metadata": {
  "kernelspec": {
   "display_name": "Python 3",
   "language": "python",
   "name": "python3"
  },
  "language_info": {
   "codemirror_mode": {
    "name": "ipython",
    "version": 3
   },
   "file_extension": ".py",
   "mimetype": "text/x-python",
   "name": "python",
   "nbconvert_exporter": "python",
   "pygments_lexer": "ipython3",
   "version": "3.6.5"
  }
 },
 "nbformat": 4,
 "nbformat_minor": 2
}
