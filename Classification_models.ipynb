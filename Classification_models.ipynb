{
 "cells": [
  {
   "cell_type": "code",
   "execution_count": 2,
   "metadata": {},
   "outputs": [],
   "source": [
    "import numpy as np\n",
    "import pandas as pd\n",
    "import math\n",
    "import matplotlib.pyplot as plt\n",
    "import datetime as dt\n",
    "from datetime import datetime, date, time\n",
    "import time\n",
    "import seaborn as sns\n",
    "from scipy import stats\n",
    "\n",
    "from sklearn.model_selection import train_test_split\n",
    "from sklearn.linear_model import LogisticRegression\n",
    "from statsmodels.discrete.discrete_model import Logit\n",
    "from sklearn.tree import DecisionTreeClassifier\n",
    "from sklearn.tree import export_graphviz\n",
    "from sklearn.metrics import confusion_matrix, classification_report\n",
    "from sklearn.model_selection import GridSearchCV\n",
    "from  sklearn.metrics import *\n",
    "from sklearn.preprocessing import StandardScaler\n",
    "from sklearn.ensemble import RandomForestClassifier"
   ]
  },
  {
   "cell_type": "code",
   "execution_count": 3,
   "metadata": {},
   "outputs": [],
   "source": [
    "df=pd.read_excel(\"GG_all_final.xlsx\")"
   ]
  },
  {
   "cell_type": "code",
   "execution_count": 4,
   "metadata": {},
   "outputs": [],
   "source": [
    "df.index=range(0,len(df))"
   ]
  },
  {
   "cell_type": "code",
   "execution_count": 5,
   "metadata": {},
   "outputs": [
    {
     "data": {
      "text/html": [
       "<div>\n",
       "<style scoped>\n",
       "    .dataframe tbody tr th:only-of-type {\n",
       "        vertical-align: middle;\n",
       "    }\n",
       "\n",
       "    .dataframe tbody tr th {\n",
       "        vertical-align: top;\n",
       "    }\n",
       "\n",
       "    .dataframe thead th {\n",
       "        text-align: right;\n",
       "    }\n",
       "</style>\n",
       "<table border=\"1\" class=\"dataframe\">\n",
       "  <thead>\n",
       "    <tr style=\"text-align: right;\">\n",
       "      <th></th>\n",
       "      <th>orderId</th>\n",
       "      <th>originLng</th>\n",
       "      <th>oroginLat</th>\n",
       "      <th>partnerId</th>\n",
       "      <th>userId</th>\n",
       "      <th>destLng</th>\n",
       "      <th>fare</th>\n",
       "      <th>distance</th>\n",
       "      <th>destLat</th>\n",
       "      <th>created_time</th>\n",
       "      <th>...</th>\n",
       "      <th>completed_at</th>\n",
       "      <th>canceled_time</th>\n",
       "      <th>canceled_at</th>\n",
       "      <th>waiting</th>\n",
       "      <th>waiting_minutes</th>\n",
       "      <th>canceled</th>\n",
       "      <th>period</th>\n",
       "      <th>weekday</th>\n",
       "      <th>month</th>\n",
       "      <th>distance_from_center</th>\n",
       "    </tr>\n",
       "  </thead>\n",
       "  <tbody>\n",
       "    <tr>\n",
       "      <th>0</th>\n",
       "      <td>330392</td>\n",
       "      <td>44.4419</td>\n",
       "      <td>40.1669</td>\n",
       "      <td>NaN</td>\n",
       "      <td>61715</td>\n",
       "      <td>NaN</td>\n",
       "      <td>0.0</td>\n",
       "      <td>NaN</td>\n",
       "      <td>NaN</td>\n",
       "      <td>20:00:50</td>\n",
       "      <td>...</td>\n",
       "      <td>NaN</td>\n",
       "      <td>20:01:04</td>\n",
       "      <td>'2015-12-31 20:01:04+00'</td>\n",
       "      <td>00:00:14</td>\n",
       "      <td>0.233333</td>\n",
       "      <td>1</td>\n",
       "      <td>Late_evening</td>\n",
       "      <td>Thursday</td>\n",
       "      <td>Dec</td>\n",
       "      <td>6561.521510</td>\n",
       "    </tr>\n",
       "    <tr>\n",
       "      <th>1</th>\n",
       "      <td>330393</td>\n",
       "      <td>44.5266</td>\n",
       "      <td>40.2074</td>\n",
       "      <td>NaN</td>\n",
       "      <td>57214</td>\n",
       "      <td>NaN</td>\n",
       "      <td>0.0</td>\n",
       "      <td>NaN</td>\n",
       "      <td>NaN</td>\n",
       "      <td>20:01:03</td>\n",
       "      <td>...</td>\n",
       "      <td>NaN</td>\n",
       "      <td>20:01:07</td>\n",
       "      <td>'2015-12-31 20:01:07+00'</td>\n",
       "      <td>00:00:04</td>\n",
       "      <td>0.066667</td>\n",
       "      <td>1</td>\n",
       "      <td>Late_evening</td>\n",
       "      <td>Thursday</td>\n",
       "      <td>Dec</td>\n",
       "      <td>2597.580452</td>\n",
       "    </tr>\n",
       "    <tr>\n",
       "      <th>2</th>\n",
       "      <td>330394</td>\n",
       "      <td>44.4708</td>\n",
       "      <td>40.2064</td>\n",
       "      <td>NaN</td>\n",
       "      <td>61840</td>\n",
       "      <td>NaN</td>\n",
       "      <td>0.0</td>\n",
       "      <td>NaN</td>\n",
       "      <td>NaN</td>\n",
       "      <td>20:01:05</td>\n",
       "      <td>...</td>\n",
       "      <td>NaN</td>\n",
       "      <td>20:01:08</td>\n",
       "      <td>'2015-12-31 20:01:08+00'</td>\n",
       "      <td>00:00:03</td>\n",
       "      <td>0.050000</td>\n",
       "      <td>1</td>\n",
       "      <td>Late_evening</td>\n",
       "      <td>Thursday</td>\n",
       "      <td>Dec</td>\n",
       "      <td>4405.891512</td>\n",
       "    </tr>\n",
       "    <tr>\n",
       "      <th>3</th>\n",
       "      <td>330395</td>\n",
       "      <td>44.4391</td>\n",
       "      <td>40.1679</td>\n",
       "      <td>NaN</td>\n",
       "      <td>15026</td>\n",
       "      <td>NaN</td>\n",
       "      <td>0.0</td>\n",
       "      <td>NaN</td>\n",
       "      <td>NaN</td>\n",
       "      <td>20:01:11</td>\n",
       "      <td>...</td>\n",
       "      <td>NaN</td>\n",
       "      <td>20:05:46</td>\n",
       "      <td>'2015-12-31 20:05:46+00'</td>\n",
       "      <td>00:04:35</td>\n",
       "      <td>4.583333</td>\n",
       "      <td>1</td>\n",
       "      <td>Late_evening</td>\n",
       "      <td>Thursday</td>\n",
       "      <td>Dec</td>\n",
       "      <td>6753.783434</td>\n",
       "    </tr>\n",
       "    <tr>\n",
       "      <th>4</th>\n",
       "      <td>330396</td>\n",
       "      <td>44.4887</td>\n",
       "      <td>40.1470</td>\n",
       "      <td>NaN</td>\n",
       "      <td>63831</td>\n",
       "      <td>NaN</td>\n",
       "      <td>0.0</td>\n",
       "      <td>NaN</td>\n",
       "      <td>NaN</td>\n",
       "      <td>20:01:15</td>\n",
       "      <td>...</td>\n",
       "      <td>NaN</td>\n",
       "      <td>20:05:47</td>\n",
       "      <td>'2015-12-31 20:05:47+00'</td>\n",
       "      <td>00:04:32</td>\n",
       "      <td>4.533333</td>\n",
       "      <td>1</td>\n",
       "      <td>Late_evening</td>\n",
       "      <td>Thursday</td>\n",
       "      <td>Dec</td>\n",
       "      <td>4857.980319</td>\n",
       "    </tr>\n",
       "  </tbody>\n",
       "</table>\n",
       "<p>5 rows × 24 columns</p>\n",
       "</div>"
      ],
      "text/plain": [
       "   orderId  originLng  oroginLat  partnerId  userId  destLng  fare  distance  \\\n",
       "0   330392    44.4419    40.1669        NaN   61715      NaN   0.0       NaN   \n",
       "1   330393    44.5266    40.2074        NaN   57214      NaN   0.0       NaN   \n",
       "2   330394    44.4708    40.2064        NaN   61840      NaN   0.0       NaN   \n",
       "3   330395    44.4391    40.1679        NaN   15026      NaN   0.0       NaN   \n",
       "4   330396    44.4887    40.1470        NaN   63831      NaN   0.0       NaN   \n",
       "\n",
       "   destLat created_time          ...          completed_at canceled_time  \\\n",
       "0      NaN     20:00:50          ...                   NaN      20:01:04   \n",
       "1      NaN     20:01:03          ...                   NaN      20:01:07   \n",
       "2      NaN     20:01:05          ...                   NaN      20:01:08   \n",
       "3      NaN     20:01:11          ...                   NaN      20:05:46   \n",
       "4      NaN     20:01:15          ...                   NaN      20:05:47   \n",
       "\n",
       "                 canceled_at   waiting waiting_minutes canceled        period  \\\n",
       "0   '2015-12-31 20:01:04+00'  00:00:14        0.233333        1  Late_evening   \n",
       "1   '2015-12-31 20:01:07+00'  00:00:04        0.066667        1  Late_evening   \n",
       "2   '2015-12-31 20:01:08+00'  00:00:03        0.050000        1  Late_evening   \n",
       "3   '2015-12-31 20:05:46+00'  00:04:35        4.583333        1  Late_evening   \n",
       "4   '2015-12-31 20:05:47+00'  00:04:32        4.533333        1  Late_evening   \n",
       "\n",
       "    weekday  month  distance_from_center  \n",
       "0  Thursday    Dec           6561.521510  \n",
       "1  Thursday    Dec           2597.580452  \n",
       "2  Thursday    Dec           4405.891512  \n",
       "3  Thursday    Dec           6753.783434  \n",
       "4  Thursday    Dec           4857.980319  \n",
       "\n",
       "[5 rows x 24 columns]"
      ]
     },
     "execution_count": 5,
     "metadata": {},
     "output_type": "execute_result"
    }
   ],
   "source": [
    "df.head()"
   ]
  },
  {
   "cell_type": "code",
   "execution_count": 6,
   "metadata": {},
   "outputs": [],
   "source": [
    "df=df[[\"canceled\",\"period\",\"weekday\",\"month\",\"distance_from_center\"]]"
   ]
  },
  {
   "cell_type": "code",
   "execution_count": 7,
   "metadata": {
    "scrolled": true
   },
   "outputs": [
    {
     "data": {
      "text/html": [
       "<div>\n",
       "<style scoped>\n",
       "    .dataframe tbody tr th:only-of-type {\n",
       "        vertical-align: middle;\n",
       "    }\n",
       "\n",
       "    .dataframe tbody tr th {\n",
       "        vertical-align: top;\n",
       "    }\n",
       "\n",
       "    .dataframe thead th {\n",
       "        text-align: right;\n",
       "    }\n",
       "</style>\n",
       "<table border=\"1\" class=\"dataframe\">\n",
       "  <thead>\n",
       "    <tr style=\"text-align: right;\">\n",
       "      <th></th>\n",
       "      <th>canceled</th>\n",
       "      <th>period</th>\n",
       "      <th>weekday</th>\n",
       "      <th>month</th>\n",
       "      <th>distance_from_center</th>\n",
       "    </tr>\n",
       "  </thead>\n",
       "  <tbody>\n",
       "    <tr>\n",
       "      <th>0</th>\n",
       "      <td>1</td>\n",
       "      <td>Late_evening</td>\n",
       "      <td>Thursday</td>\n",
       "      <td>Dec</td>\n",
       "      <td>6561.521510</td>\n",
       "    </tr>\n",
       "    <tr>\n",
       "      <th>1</th>\n",
       "      <td>1</td>\n",
       "      <td>Late_evening</td>\n",
       "      <td>Thursday</td>\n",
       "      <td>Dec</td>\n",
       "      <td>2597.580452</td>\n",
       "    </tr>\n",
       "    <tr>\n",
       "      <th>2</th>\n",
       "      <td>1</td>\n",
       "      <td>Late_evening</td>\n",
       "      <td>Thursday</td>\n",
       "      <td>Dec</td>\n",
       "      <td>4405.891512</td>\n",
       "    </tr>\n",
       "    <tr>\n",
       "      <th>3</th>\n",
       "      <td>1</td>\n",
       "      <td>Late_evening</td>\n",
       "      <td>Thursday</td>\n",
       "      <td>Dec</td>\n",
       "      <td>6753.783434</td>\n",
       "    </tr>\n",
       "    <tr>\n",
       "      <th>4</th>\n",
       "      <td>1</td>\n",
       "      <td>Late_evening</td>\n",
       "      <td>Thursday</td>\n",
       "      <td>Dec</td>\n",
       "      <td>4857.980319</td>\n",
       "    </tr>\n",
       "  </tbody>\n",
       "</table>\n",
       "</div>"
      ],
      "text/plain": [
       "   canceled        period   weekday month  distance_from_center\n",
       "0         1  Late_evening  Thursday   Dec           6561.521510\n",
       "1         1  Late_evening  Thursday   Dec           2597.580452\n",
       "2         1  Late_evening  Thursday   Dec           4405.891512\n",
       "3         1  Late_evening  Thursday   Dec           6753.783434\n",
       "4         1  Late_evening  Thursday   Dec           4857.980319"
      ]
     },
     "execution_count": 7,
     "metadata": {},
     "output_type": "execute_result"
    }
   ],
   "source": [
    "df.head()"
   ]
  },
  {
   "cell_type": "code",
   "execution_count": 8,
   "metadata": {},
   "outputs": [
    {
     "name": "stdout",
     "output_type": "stream",
     "text": [
      "<class 'pandas.core.frame.DataFrame'>\n",
      "RangeIndex: 1048226 entries, 0 to 1048225\n",
      "Data columns (total 5 columns):\n",
      "canceled                1048226 non-null int64\n",
      "period                  1048226 non-null object\n",
      "weekday                 1048226 non-null object\n",
      "month                   1048226 non-null object\n",
      "distance_from_center    1048226 non-null float64\n",
      "dtypes: float64(1), int64(1), object(3)\n",
      "memory usage: 40.0+ MB\n"
     ]
    }
   ],
   "source": [
    "df.info()"
   ]
  },
  {
   "cell_type": "code",
   "execution_count": 9,
   "metadata": {},
   "outputs": [],
   "source": [
    "df.index=range(0,len(df))"
   ]
  },
  {
   "cell_type": "code",
   "execution_count": 10,
   "metadata": {},
   "outputs": [
    {
     "data": {
      "text/plain": [
       "array([False, False, False, False, False])"
      ]
     },
     "execution_count": 10,
     "metadata": {},
     "output_type": "execute_result"
    }
   ],
   "source": [
    "df.columns.isna()"
   ]
  },
  {
   "cell_type": "code",
   "execution_count": 11,
   "metadata": {},
   "outputs": [
    {
     "name": "stdout",
     "output_type": "stream",
     "text": [
      "<class 'pandas.core.frame.DataFrame'>\n",
      "RangeIndex: 1048226 entries, 0 to 1048225\n",
      "Data columns (total 5 columns):\n",
      "canceled                1048226 non-null int64\n",
      "period                  1048226 non-null object\n",
      "weekday                 1048226 non-null object\n",
      "month                   1048226 non-null object\n",
      "distance_from_center    1048226 non-null float64\n",
      "dtypes: float64(1), int64(1), object(3)\n",
      "memory usage: 40.0+ MB\n"
     ]
    }
   ],
   "source": [
    "df.info()"
   ]
  },
  {
   "cell_type": "code",
   "execution_count": 12,
   "metadata": {},
   "outputs": [
    {
     "data": {
      "text/html": [
       "<div>\n",
       "<style scoped>\n",
       "    .dataframe tbody tr th:only-of-type {\n",
       "        vertical-align: middle;\n",
       "    }\n",
       "\n",
       "    .dataframe tbody tr th {\n",
       "        vertical-align: top;\n",
       "    }\n",
       "\n",
       "    .dataframe thead th {\n",
       "        text-align: right;\n",
       "    }\n",
       "</style>\n",
       "<table border=\"1\" class=\"dataframe\">\n",
       "  <thead>\n",
       "    <tr style=\"text-align: right;\">\n",
       "      <th></th>\n",
       "      <th>canceled</th>\n",
       "      <th>period</th>\n",
       "      <th>weekday</th>\n",
       "      <th>month</th>\n",
       "      <th>distance_from_center</th>\n",
       "    </tr>\n",
       "  </thead>\n",
       "  <tbody>\n",
       "    <tr>\n",
       "      <th>0</th>\n",
       "      <td>1</td>\n",
       "      <td>Late_evening</td>\n",
       "      <td>Thursday</td>\n",
       "      <td>Dec</td>\n",
       "      <td>6561.521510</td>\n",
       "    </tr>\n",
       "    <tr>\n",
       "      <th>1</th>\n",
       "      <td>1</td>\n",
       "      <td>Late_evening</td>\n",
       "      <td>Thursday</td>\n",
       "      <td>Dec</td>\n",
       "      <td>2597.580452</td>\n",
       "    </tr>\n",
       "    <tr>\n",
       "      <th>2</th>\n",
       "      <td>1</td>\n",
       "      <td>Late_evening</td>\n",
       "      <td>Thursday</td>\n",
       "      <td>Dec</td>\n",
       "      <td>4405.891512</td>\n",
       "    </tr>\n",
       "    <tr>\n",
       "      <th>3</th>\n",
       "      <td>1</td>\n",
       "      <td>Late_evening</td>\n",
       "      <td>Thursday</td>\n",
       "      <td>Dec</td>\n",
       "      <td>6753.783434</td>\n",
       "    </tr>\n",
       "    <tr>\n",
       "      <th>4</th>\n",
       "      <td>1</td>\n",
       "      <td>Late_evening</td>\n",
       "      <td>Thursday</td>\n",
       "      <td>Dec</td>\n",
       "      <td>4857.980319</td>\n",
       "    </tr>\n",
       "  </tbody>\n",
       "</table>\n",
       "</div>"
      ],
      "text/plain": [
       "   canceled        period   weekday month  distance_from_center\n",
       "0         1  Late_evening  Thursday   Dec           6561.521510\n",
       "1         1  Late_evening  Thursday   Dec           2597.580452\n",
       "2         1  Late_evening  Thursday   Dec           4405.891512\n",
       "3         1  Late_evening  Thursday   Dec           6753.783434\n",
       "4         1  Late_evening  Thursday   Dec           4857.980319"
      ]
     },
     "execution_count": 12,
     "metadata": {},
     "output_type": "execute_result"
    }
   ],
   "source": [
    "df.head()"
   ]
  },
  {
   "cell_type": "code",
   "execution_count": 13,
   "metadata": {},
   "outputs": [
    {
     "data": {
      "image/png": "[encoded data removed]",
      "text/plain": [
       "<Figure size 432x288 with 1 Axes>"
      ]
     },
     "metadata": {},
     "output_type": "display_data"
    }
   ],
   "source": [
    "plt.boxplot(df[\"distance_from_center\"])                \n",
    "plt.show()"
   ]
  },
  {
   "cell_type": "code",
   "execution_count": 14,
   "metadata": {},
   "outputs": [],
   "source": [
    "for i in [\"distance_from_center\"]:\n",
    "    Q1=df[i].quantile(0.25)\n",
    "    Q2=df[i].quantile(0.5)\n",
    "    Q3=df[i].quantile(0.75)\n",
    "    interquantile=Q3-Q1\n",
    "    high=Q3+1.5* interquantile\n",
    "    low=Q1-1.5*interquantile\n",
    "    df=df[df[i] >= low]\n",
    "    df=df[df[i] <= high]"
   ]
  },
  {
   "cell_type": "code",
   "execution_count": 15,
   "metadata": {},
   "outputs": [
    {
     "name": "stdout",
     "output_type": "stream",
     "text": [
      "<class 'pandas.core.frame.DataFrame'>\n",
      "Int64Index: 1009141 entries, 0 to 1048225\n",
      "Data columns (total 5 columns):\n",
      "canceled                1009141 non-null int64\n",
      "period                  1009141 non-null object\n",
      "weekday                 1009141 non-null object\n",
      "month                   1009141 non-null object\n",
      "distance_from_center    1009141 non-null float64\n",
      "dtypes: float64(1), int64(1), object(3)\n",
      "memory usage: 46.2+ MB\n"
     ]
    }
   ],
   "source": [
    "df.info()\n"
   ]
  },
  {
   "cell_type": "code",
   "execution_count": 16,
   "metadata": {},
   "outputs": [
    {
     "name": "stdout",
     "output_type": "stream",
     "text": [
      "<class 'pandas.core.frame.DataFrame'>\n",
      "Int64Index: 1009141 entries, 0 to 1048225\n",
      "Data columns (total 5 columns):\n",
      "canceled                1009141 non-null int64\n",
      "period                  1009141 non-null object\n",
      "weekday                 1009141 non-null object\n",
      "month                   1009141 non-null object\n",
      "distance_from_center    1009141 non-null float64\n",
      "dtypes: float64(1), int64(1), object(3)\n",
      "memory usage: 46.2+ MB\n"
     ]
    }
   ],
   "source": [
    "df=df.dropna()\n",
    "df.info()"
   ]
  },
  {
   "cell_type": "code",
   "execution_count": 17,
   "metadata": {},
   "outputs": [],
   "source": [
    "data_dummies=pd.get_dummies(df[[\"period\",\"weekday\",\"month\"]],drop_first=True)"
   ]
  },
  {
   "cell_type": "code",
   "execution_count": 18,
   "metadata": {},
   "outputs": [
    {
     "name": "stdout",
     "output_type": "stream",
     "text": [
      "<class 'pandas.core.frame.DataFrame'>\n",
      "Int64Index: 1009141 entries, 0 to 1048225\n",
      "Data columns (total 18 columns):\n",
      "period_Evening           1009141 non-null uint8\n",
      "period_Late_afternoon    1009141 non-null uint8\n",
      "period_Late_evening      1009141 non-null uint8\n",
      "period_Morning           1009141 non-null uint8\n",
      "period_Night             1009141 non-null uint8\n",
      "weekday_Monday           1009141 non-null uint8\n",
      "weekday_Saturday         1009141 non-null uint8\n",
      "weekday_Sunday           1009141 non-null uint8\n",
      "weekday_Thursday         1009141 non-null uint8\n",
      "weekday_Tuesday          1009141 non-null uint8\n",
      "weekday_Wednesday        1009141 non-null uint8\n",
      "month_Dec                1009141 non-null uint8\n",
      "month_Feb                1009141 non-null uint8\n",
      "month_Jan                1009141 non-null uint8\n",
      "month_Jul                1009141 non-null uint8\n",
      "month_Jun                1009141 non-null uint8\n",
      "month_Mar                1009141 non-null uint8\n",
      "month_May                1009141 non-null uint8\n",
      "dtypes: uint8(18)\n",
      "memory usage: 25.0 MB\n"
     ]
    }
   ],
   "source": [
    "data_dummies.info()"
   ]
  },
  {
   "cell_type": "code",
   "execution_count": 19,
   "metadata": {},
   "outputs": [
    {
     "data": {
      "text/html": [
       "<div>\n",
       "<style scoped>\n",
       "    .dataframe tbody tr th:only-of-type {\n",
       "        vertical-align: middle;\n",
       "    }\n",
       "\n",
       "    .dataframe tbody tr th {\n",
       "        vertical-align: top;\n",
       "    }\n",
       "\n",
       "    .dataframe thead th {\n",
       "        text-align: right;\n",
       "    }\n",
       "</style>\n",
       "<table border=\"1\" class=\"dataframe\">\n",
       "  <thead>\n",
       "    <tr style=\"text-align: right;\">\n",
       "      <th></th>\n",
       "      <th>canceled</th>\n",
       "      <th>period</th>\n",
       "      <th>weekday</th>\n",
       "      <th>month</th>\n",
       "      <th>distance_from_center</th>\n",
       "    </tr>\n",
       "  </thead>\n",
       "  <tbody>\n",
       "    <tr>\n",
       "      <th>0</th>\n",
       "      <td>1</td>\n",
       "      <td>Late_evening</td>\n",
       "      <td>Thursday</td>\n",
       "      <td>Dec</td>\n",
       "      <td>6561.521510</td>\n",
       "    </tr>\n",
       "    <tr>\n",
       "      <th>1</th>\n",
       "      <td>1</td>\n",
       "      <td>Late_evening</td>\n",
       "      <td>Thursday</td>\n",
       "      <td>Dec</td>\n",
       "      <td>2597.580452</td>\n",
       "    </tr>\n",
       "    <tr>\n",
       "      <th>2</th>\n",
       "      <td>1</td>\n",
       "      <td>Late_evening</td>\n",
       "      <td>Thursday</td>\n",
       "      <td>Dec</td>\n",
       "      <td>4405.891512</td>\n",
       "    </tr>\n",
       "    <tr>\n",
       "      <th>3</th>\n",
       "      <td>1</td>\n",
       "      <td>Late_evening</td>\n",
       "      <td>Thursday</td>\n",
       "      <td>Dec</td>\n",
       "      <td>6753.783434</td>\n",
       "    </tr>\n",
       "    <tr>\n",
       "      <th>4</th>\n",
       "      <td>1</td>\n",
       "      <td>Late_evening</td>\n",
       "      <td>Thursday</td>\n",
       "      <td>Dec</td>\n",
       "      <td>4857.980319</td>\n",
       "    </tr>\n",
       "  </tbody>\n",
       "</table>\n",
       "</div>"
      ],
      "text/plain": [
       "   canceled        period   weekday month  distance_from_center\n",
       "0         1  Late_evening  Thursday   Dec           6561.521510\n",
       "1         1  Late_evening  Thursday   Dec           2597.580452\n",
       "2         1  Late_evening  Thursday   Dec           4405.891512\n",
       "3         1  Late_evening  Thursday   Dec           6753.783434\n",
       "4         1  Late_evening  Thursday   Dec           4857.980319"
      ]
     },
     "execution_count": 19,
     "metadata": {},
     "output_type": "execute_result"
    }
   ],
   "source": [
    "df.head()"
   ]
  },
  {
   "cell_type": "code",
   "execution_count": 20,
   "metadata": {},
   "outputs": [],
   "source": [
    "df.index=range(0,len(df))\n",
    "data_dummies.index=range(0,len(data_dummies))"
   ]
  },
  {
   "cell_type": "code",
   "execution_count": 21,
   "metadata": {},
   "outputs": [
    {
     "name": "stdout",
     "output_type": "stream",
     "text": [
      "<class 'pandas.core.frame.DataFrame'>\n",
      "RangeIndex: 1009141 entries, 0 to 1009140\n",
      "Data columns (total 5 columns):\n",
      "canceled                1009141 non-null int64\n",
      "period                  1009141 non-null object\n",
      "weekday                 1009141 non-null object\n",
      "month                   1009141 non-null object\n",
      "distance_from_center    1009141 non-null float64\n",
      "dtypes: float64(1), int64(1), object(3)\n",
      "memory usage: 38.5+ MB\n"
     ]
    }
   ],
   "source": [
    "df.info()"
   ]
  },
  {
   "cell_type": "code",
   "execution_count": 22,
   "metadata": {},
   "outputs": [],
   "source": [
    "df=df.drop([\"period\",\"weekday\",\"month\"],axis=1)\n",
    "df=df.join(data_dummies)"
   ]
  },
  {
   "cell_type": "code",
   "execution_count": 23,
   "metadata": {},
   "outputs": [
    {
     "name": "stdout",
     "output_type": "stream",
     "text": [
      "<class 'pandas.core.frame.DataFrame'>\n",
      "RangeIndex: 1009141 entries, 0 to 1009140\n",
      "Data columns (total 20 columns):\n",
      "canceled                 1009141 non-null int64\n",
      "distance_from_center     1009141 non-null float64\n",
      "period_Evening           1009141 non-null uint8\n",
      "period_Late_afternoon    1009141 non-null uint8\n",
      "period_Late_evening      1009141 non-null uint8\n",
      "period_Morning           1009141 non-null uint8\n",
      "period_Night             1009141 non-null uint8\n",
      "weekday_Monday           1009141 non-null uint8\n",
      "weekday_Saturday         1009141 non-null uint8\n",
      "weekday_Sunday           1009141 non-null uint8\n",
      "weekday_Thursday         1009141 non-null uint8\n",
      "weekday_Tuesday          1009141 non-null uint8\n",
      "weekday_Wednesday        1009141 non-null uint8\n",
      "month_Dec                1009141 non-null uint8\n",
      "month_Feb                1009141 non-null uint8\n",
      "month_Jan                1009141 non-null uint8\n",
      "month_Jul                1009141 non-null uint8\n",
      "month_Jun                1009141 non-null uint8\n",
      "month_Mar                1009141 non-null uint8\n",
      "month_May                1009141 non-null uint8\n",
      "dtypes: float64(1), int64(1), uint8(18)\n",
      "memory usage: 32.7 MB\n"
     ]
    }
   ],
   "source": [
    "df.info()"
   ]
  },
  {
   "cell_type": "code",
   "execution_count": 24,
   "metadata": {},
   "outputs": [],
   "source": [
    "df=df.sample(n=20000,random_state=42)"
   ]
  },
  {
   "cell_type": "code",
   "execution_count": 25,
   "metadata": {},
   "outputs": [
    {
     "name": "stdout",
     "output_type": "stream",
     "text": [
      "<class 'pandas.core.frame.DataFrame'>\n",
      "Int64Index: 20000 entries, 886622 to 740700\n",
      "Data columns (total 20 columns):\n",
      "canceled                 20000 non-null int64\n",
      "distance_from_center     20000 non-null float64\n",
      "period_Evening           20000 non-null uint8\n",
      "period_Late_afternoon    20000 non-null uint8\n",
      "period_Late_evening      20000 non-null uint8\n",
      "period_Morning           20000 non-null uint8\n",
      "period_Night             20000 non-null uint8\n",
      "weekday_Monday           20000 non-null uint8\n",
      "weekday_Saturday         20000 non-null uint8\n",
      "weekday_Sunday           20000 non-null uint8\n",
      "weekday_Thursday         20000 non-null uint8\n",
      "weekday_Tuesday          20000 non-null uint8\n",
      "weekday_Wednesday        20000 non-null uint8\n",
      "month_Dec                20000 non-null uint8\n",
      "month_Feb                20000 non-null uint8\n",
      "month_Jan                20000 non-null uint8\n",
      "month_Jul                20000 non-null uint8\n",
      "month_Jun                20000 non-null uint8\n",
      "month_Mar                20000 non-null uint8\n",
      "month_May                20000 non-null uint8\n",
      "dtypes: float64(1), int64(1), uint8(18)\n",
      "memory usage: 820.3 KB\n"
     ]
    }
   ],
   "source": [
    "df.info()"
   ]
  },
  {
   "cell_type": "code",
   "execution_count": 26,
   "metadata": {},
   "outputs": [],
   "source": [
    "X=df.drop(\"canceled\",axis=1)\n",
    "Y=df.canceled\n",
    "X_train,X_test,Y_train,Y_test=train_test_split(X,Y,test_size=0.2,random_state=42)"
   ]
  },
  {
   "cell_type": "code",
   "execution_count": 27,
   "metadata": {},
   "outputs": [
    {
     "data": {
      "text/plain": [
       "0    77.115\n",
       "1    22.885\n",
       "Name: canceled, dtype: float64"
      ]
     },
     "execution_count": 27,
     "metadata": {},
     "output_type": "execute_result"
    }
   ],
   "source": [
    "df.canceled.value_counts()/len(df)*100"
   ]
  },
  {
   "cell_type": "code",
   "execution_count": 28,
   "metadata": {},
   "outputs": [
    {
     "name": "stdout",
     "output_type": "stream",
     "text": [
      "<class 'pandas.core.frame.DataFrame'>\n",
      "Int64Index: 20000 entries, 886622 to 740700\n",
      "Data columns (total 19 columns):\n",
      "distance_from_center     20000 non-null float64\n",
      "period_Evening           20000 non-null uint8\n",
      "period_Late_afternoon    20000 non-null uint8\n",
      "period_Late_evening      20000 non-null uint8\n",
      "period_Morning           20000 non-null uint8\n",
      "period_Night             20000 non-null uint8\n",
      "weekday_Monday           20000 non-null uint8\n",
      "weekday_Saturday         20000 non-null uint8\n",
      "weekday_Sunday           20000 non-null uint8\n",
      "weekday_Thursday         20000 non-null uint8\n",
      "weekday_Tuesday          20000 non-null uint8\n",
      "weekday_Wednesday        20000 non-null uint8\n",
      "month_Dec                20000 non-null uint8\n",
      "month_Feb                20000 non-null uint8\n",
      "month_Jan                20000 non-null uint8\n",
      "month_Jul                20000 non-null uint8\n",
      "month_Jun                20000 non-null uint8\n",
      "month_Mar                20000 non-null uint8\n",
      "month_May                20000 non-null uint8\n",
      "dtypes: float64(1), uint8(18)\n",
      "memory usage: 664.1 KB\n"
     ]
    }
   ],
   "source": [
    "X.info()"
   ]
  },
  {
   "cell_type": "markdown",
   "metadata": {},
   "source": [
    "# Decision Tree"
   ]
  },
  {
   "cell_type": "code",
   "execution_count": 29,
   "metadata": {},
   "outputs": [],
   "source": [
    "gridsearch=GridSearchCV(estimator=DecisionTreeClassifier(class_weight=\"balanced\",random_state=42),\n",
    "                                                         param_grid={'max_depth': range(3,20),\n",
    "                \"min_samples_leaf\":range(10,200)},scoring=\"roc_auc\",cv=5, n_jobs=-1).fit(X,Y)\n"
   ]
  },
  {
   "cell_type": "code",
   "execution_count": 30,
   "metadata": {},
   "outputs": [
    {
     "name": "stdout",
     "output_type": "stream",
     "text": [
      "{'max_depth': 7, 'min_samples_leaf': 33}\n",
      "[7, 33]\n",
      "0.7166629598189618\n"
     ]
    }
   ],
   "source": [
    "print(gridsearch.best_params_)\n",
    "best_params=list(gridsearch.best_params_.values())\n",
    "print(best_params)\n",
    "print(gridsearch.best_score_)"
   ]
  },
  {
   "cell_type": "code",
   "execution_count": 31,
   "metadata": {},
   "outputs": [],
   "source": [
    "tree=DecisionTreeClassifier(max_depth=best_params[0],min_samples_leaf=best_params[1],class_weight=\"balanced\",random_state=42)\n",
    "tree=tree.fit(X_train,Y_train)"
   ]
  },
  {
   "cell_type": "code",
   "execution_count": 32,
   "metadata": {},
   "outputs": [
    {
     "data": {
      "text/html": [
       "<div>\n",
       "<style scoped>\n",
       "    .dataframe tbody tr th:only-of-type {\n",
       "        vertical-align: middle;\n",
       "    }\n",
       "\n",
       "    .dataframe tbody tr th {\n",
       "        vertical-align: top;\n",
       "    }\n",
       "\n",
       "    .dataframe thead th {\n",
       "        text-align: right;\n",
       "    }\n",
       "</style>\n",
       "<table border=\"1\" class=\"dataframe\">\n",
       "  <thead>\n",
       "    <tr style=\"text-align: right;\">\n",
       "      <th></th>\n",
       "      <th>Real_0</th>\n",
       "      <th>Real_1</th>\n",
       "    </tr>\n",
       "  </thead>\n",
       "  <tbody>\n",
       "    <tr>\n",
       "      <th>Predicted_0</th>\n",
       "      <td>2182</td>\n",
       "      <td>371</td>\n",
       "    </tr>\n",
       "    <tr>\n",
       "      <th>Predicted_1</th>\n",
       "      <td>901</td>\n",
       "      <td>546</td>\n",
       "    </tr>\n",
       "  </tbody>\n",
       "</table>\n",
       "</div>"
      ],
      "text/plain": [
       "             Real_0  Real_1\n",
       "Predicted_0    2182     371\n",
       "Predicted_1     901     546"
      ]
     },
     "execution_count": 32,
     "metadata": {},
     "output_type": "execute_result"
    }
   ],
   "source": [
    "cm_tree=pd.DataFrame(confusion_matrix(Y_test,tree.predict(X_test)),columns=[\"Predicted_0\",\"Predicted_1\"],index=[\"Real_0\",\"Real_1\"]).T\n",
    "cm_tree"
   ]
  },
  {
   "cell_type": "code",
   "execution_count": 33,
   "metadata": {},
   "outputs": [],
   "source": [
    "imp=pd.DataFrame(tree.feature_importances_,columns=['imp'],index=X.columns)"
   ]
  },
  {
   "cell_type": "code",
   "execution_count": 34,
   "metadata": {},
   "outputs": [
    {
     "name": "stdout",
     "output_type": "stream",
     "text": [
      "                            imp\n",
      "month_Jan              0.311687\n",
      "month_Jul              0.269082\n",
      "distance_from_center   0.158746\n",
      "month_Jun              0.063144\n",
      "month_Dec              0.042670\n",
      "period_Evening         0.040699\n",
      "period_Morning         0.024682\n",
      "weekday_Wednesday      0.015221\n",
      "period_Late_afternoon  0.014746\n",
      "weekday_Thursday       0.014107\n",
      "weekday_Tuesday        0.009044\n",
      "period_Night           0.008986\n",
      "weekday_Sunday         0.008673\n",
      "month_Feb              0.008384\n",
      "month_May              0.006209\n",
      "weekday_Saturday       0.003148\n",
      "period_Late_evening    0.000772\n",
      "weekday_Monday         0.000000\n",
      "month_Mar              0.000000\n"
     ]
    }
   ],
   "source": [
    "imp=imp.sort_values(by=\"imp\",ascending=False)\n",
    "print(imp)"
   ]
  },
  {
   "cell_type": "markdown",
   "metadata": {},
   "source": [
    " # Logistic regression "
   ]
  },
  {
   "cell_type": "code",
   "execution_count": 35,
   "metadata": {},
   "outputs": [],
   "source": [
    "gridsearch3=GridSearchCV(LogisticRegression(class_weight=\"balanced\",random_state=42),\n",
    "                                            param_grid={\"C\":np.linspace(0.0001,30,10),\"penalty\":[\"l1\",\"l2\"]},\n",
    "                         scoring=\"roc_auc\",cv=5,n_jobs=-1).fit(X,Y)\n"
   ]
  },
  {
   "cell_type": "code",
   "execution_count": 36,
   "metadata": {},
   "outputs": [
    {
     "name": "stdout",
     "output_type": "stream",
     "text": [
      "[3.3334222222222225, 'l1']\n",
      "0.7182835977708146\n"
     ]
    }
   ],
   "source": [
    "best2=list(gridsearch3.best_params_.values())\n",
    "print(best2)\n",
    "print(gridsearch3.best_score_)"
   ]
  },
  {
   "cell_type": "code",
   "execution_count": 37,
   "metadata": {},
   "outputs": [
    {
     "data": {
      "text/plain": [
       "LogisticRegression(C=3.3334222222222225, class_weight='balanced', dual=False,\n",
       "          fit_intercept=True, intercept_scaling=1, max_iter=100,\n",
       "          multi_class='ovr', n_jobs=1, penalty='l1', random_state=42,\n",
       "          solver='liblinear', tol=0.0001, verbose=0, warm_start=False)"
      ]
     },
     "execution_count": 37,
     "metadata": {},
     "output_type": "execute_result"
    }
   ],
   "source": [
    "logit=LogisticRegression(C=best2[0],class_weight=\"balanced\",penalty=best2[1],random_state=42)\n",
    "logit.fit(X_train,Y_train)"
   ]
  },
  {
   "cell_type": "code",
   "execution_count": 38,
   "metadata": {},
   "outputs": [
    {
     "name": "stdout",
     "output_type": "stream",
     "text": [
      "          0         1\n",
      "0  0.472668  0.527332\n",
      "1  0.733397  0.266603\n",
      "2  0.306261  0.693739\n",
      "3  0.750514  0.249486\n",
      "4  0.579511  0.420489\n"
     ]
    }
   ],
   "source": [
    "print(pd.DataFrame(logit.predict_proba(X_test)[:5,:]))"
   ]
  },
  {
   "cell_type": "code",
   "execution_count": 39,
   "metadata": {},
   "outputs": [
    {
     "name": "stdout",
     "output_type": "stream",
     "text": [
      "           FPR       TPR  Tresholds\n",
      "1248  1.000000  1.000000   0.103346\n",
      "1247  0.997729  1.000000   0.128237\n",
      "1246  0.997729  0.997819   0.129480\n",
      "1245  0.992540  0.997819   0.139602\n",
      "1244  0.992540  0.996728   0.140206\n"
     ]
    }
   ],
   "source": [
    "FPR,TPR,tresholds=roc_curve(Y_test,logit.predict_proba(X_test)[:,1])\n",
    "roc=pd.DataFrame({'FPR' : FPR,'TPR' : TPR,'Tresholds':tresholds}, columns=[\"FPR\",\"TPR\",\"Tresholds\"])\n",
    "roc=roc.sort_values(by=\"TPR\",ascending=False)\n",
    "print(roc.head())"
   ]
  },
  {
   "cell_type": "code",
   "execution_count": 40,
   "metadata": {},
   "outputs": [
    {
     "data": {
      "image/png": "[encoded data removed]",
      "text/plain": [
       "<Figure size 432x288 with 1 Axes>"
      ]
     },
     "metadata": {},
     "output_type": "display_data"
    }
   ],
   "source": [
    "plt.plot(FPR,TPR,label=\"ROC AUC=%f\"%roc_auc_score(Y_test,logit.predict(X_test)))\n",
    "plt.plot([0,1],[0,1])\n",
    "plt.legend(loc=\"lower right\")\n",
    "plt.xlabel(\"FPR\")\n",
    "plt.ylabel(\"TPR\")\n",
    "plt.show()\n"
   ]
  },
  {
   "cell_type": "markdown",
   "metadata": {},
   "source": [
    "# Logit Summary"
   ]
  },
  {
   "cell_type": "code",
   "execution_count": 41,
   "metadata": {},
   "outputs": [
    {
     "data": {
      "text/plain": [
       "'canceled~distance_from_center+period_Evening+period_Late_afternoon+period_Late_evening+period_Morning+period_Night+weekday_Monday+weekday_Saturday+weekday_Sunday+weekday_Thursday+weekday_Tuesday+weekday_Wednesday+month_Dec+month_Feb+month_Jan+month_Jul+month_Jun+month_Mar+month_May'"
      ]
     },
     "execution_count": 41,
     "metadata": {},
     "output_type": "execute_result"
    }
   ],
   "source": [
    "formula=\"canceled~\"+\"+\".join(X.columns)\n",
    "formula"
   ]
  },
  {
   "cell_type": "code",
   "execution_count": 42,
   "metadata": {},
   "outputs": [
    {
     "name": "stdout",
     "output_type": "stream",
     "text": [
      "Optimization terminated successfully.\n",
      "         Current function value: 0.481523\n",
      "         Iterations 6\n"
     ]
    },
    {
     "data": {
      "text/html": [
       "<table class=\"simpletable\">\n",
       "<caption>Logit Regression Results</caption>\n",
       "<tr>\n",
       "  <th>Dep. Variable:</th>     <td>canceled</td>     <th>  No. Observations:  </th>  <td> 20000</td> \n",
       "</tr>\n",
       "<tr>\n",
       "  <th>Model:</th>               <td>Logit</td>      <th>  Df Residuals:      </th>  <td> 19980</td> \n",
       "</tr>\n",
       "<tr>\n",
       "  <th>Method:</th>               <td>MLE</td>       <th>  Df Model:          </th>  <td>    19</td> \n",
       "</tr>\n",
       "<tr>\n",
       "  <th>Date:</th>          <td>Tue, 11 Dec 2018</td> <th>  Pseudo R-squ.:     </th>  <td>0.1048</td> \n",
       "</tr>\n",
       "<tr>\n",
       "  <th>Time:</th>              <td>02:08:01</td>     <th>  Log-Likelihood:    </th> <td> -9630.5</td>\n",
       "</tr>\n",
       "<tr>\n",
       "  <th>converged:</th>           <td>True</td>       <th>  LL-Null:           </th> <td> -10758.</td>\n",
       "</tr>\n",
       "<tr>\n",
       "  <th> </th>                      <td> </td>        <th>  LLR p-value:       </th>  <td> 0.000</td> \n",
       "</tr>\n",
       "</table>\n",
       "<table class=\"simpletable\">\n",
       "<tr>\n",
       "            <td></td>               <th>coef</th>     <th>std err</th>      <th>z</th>      <th>P>|z|</th>  <th>[0.025</th>    <th>0.975]</th>  \n",
       "</tr>\n",
       "<tr>\n",
       "  <th>Intercept</th>             <td>   -2.5936</td> <td>    0.096</td> <td>  -27.103</td> <td> 0.000</td> <td>   -2.781</td> <td>   -2.406</td>\n",
       "</tr>\n",
       "<tr>\n",
       "  <th>distance_from_center</th>  <td>    0.0002</td> <td> 9.69e-06</td> <td>   15.706</td> <td> 0.000</td> <td>    0.000</td> <td>    0.000</td>\n",
       "</tr>\n",
       "<tr>\n",
       "  <th>period_Evening</th>        <td>   -0.1872</td> <td>    0.061</td> <td>   -3.089</td> <td> 0.002</td> <td>   -0.306</td> <td>   -0.068</td>\n",
       "</tr>\n",
       "<tr>\n",
       "  <th>period_Late_afternoon</th> <td>    0.0601</td> <td>    0.057</td> <td>    1.046</td> <td> 0.296</td> <td>   -0.053</td> <td>    0.173</td>\n",
       "</tr>\n",
       "<tr>\n",
       "  <th>period_Late_evening</th>   <td>    0.0131</td> <td>    0.075</td> <td>    0.176</td> <td> 0.861</td> <td>   -0.133</td> <td>    0.159</td>\n",
       "</tr>\n",
       "<tr>\n",
       "  <th>period_Morning</th>        <td>   -0.3857</td> <td>    0.062</td> <td>   -6.181</td> <td> 0.000</td> <td>   -0.508</td> <td>   -0.263</td>\n",
       "</tr>\n",
       "<tr>\n",
       "  <th>period_Night</th>          <td>   -0.0779</td> <td>    0.059</td> <td>   -1.315</td> <td> 0.189</td> <td>   -0.194</td> <td>    0.038</td>\n",
       "</tr>\n",
       "<tr>\n",
       "  <th>weekday_Monday</th>        <td>   -0.0124</td> <td>    0.063</td> <td>   -0.197</td> <td> 0.844</td> <td>   -0.136</td> <td>    0.111</td>\n",
       "</tr>\n",
       "<tr>\n",
       "  <th>weekday_Saturday</th>      <td>   -0.1552</td> <td>    0.065</td> <td>   -2.386</td> <td> 0.017</td> <td>   -0.283</td> <td>   -0.028</td>\n",
       "</tr>\n",
       "<tr>\n",
       "  <th>weekday_Sunday</th>        <td>    0.1380</td> <td>    0.064</td> <td>    2.158</td> <td> 0.031</td> <td>    0.013</td> <td>    0.263</td>\n",
       "</tr>\n",
       "<tr>\n",
       "  <th>weekday_Thursday</th>      <td>   -0.3864</td> <td>    0.069</td> <td>   -5.609</td> <td> 0.000</td> <td>   -0.521</td> <td>   -0.251</td>\n",
       "</tr>\n",
       "<tr>\n",
       "  <th>weekday_Tuesday</th>       <td>   -0.2026</td> <td>    0.066</td> <td>   -3.068</td> <td> 0.002</td> <td>   -0.332</td> <td>   -0.073</td>\n",
       "</tr>\n",
       "<tr>\n",
       "  <th>weekday_Wednesday</th>     <td>   -0.0882</td> <td>    0.064</td> <td>   -1.372</td> <td> 0.170</td> <td>   -0.214</td> <td>    0.038</td>\n",
       "</tr>\n",
       "<tr>\n",
       "  <th>month_Dec</th>             <td>    4.2139</td> <td>    0.425</td> <td>    9.923</td> <td> 0.000</td> <td>    3.382</td> <td>    5.046</td>\n",
       "</tr>\n",
       "<tr>\n",
       "  <th>month_Feb</th>             <td>    0.5690</td> <td>    0.098</td> <td>    5.789</td> <td> 0.000</td> <td>    0.376</td> <td>    0.762</td>\n",
       "</tr>\n",
       "<tr>\n",
       "  <th>month_Jan</th>             <td>    2.1484</td> <td>    0.083</td> <td>   25.864</td> <td> 0.000</td> <td>    1.986</td> <td>    2.311</td>\n",
       "</tr>\n",
       "<tr>\n",
       "  <th>month_Jul</th>             <td>    1.6817</td> <td>    0.081</td> <td>   20.650</td> <td> 0.000</td> <td>    1.522</td> <td>    1.841</td>\n",
       "</tr>\n",
       "<tr>\n",
       "  <th>month_Jun</th>             <td>    1.0566</td> <td>    0.083</td> <td>   12.675</td> <td> 0.000</td> <td>    0.893</td> <td>    1.220</td>\n",
       "</tr>\n",
       "<tr>\n",
       "  <th>month_Mar</th>             <td>    0.3148</td> <td>    0.100</td> <td>    3.159</td> <td> 0.002</td> <td>    0.120</td> <td>    0.510</td>\n",
       "</tr>\n",
       "<tr>\n",
       "  <th>month_May</th>             <td>    0.4739</td> <td>    0.092</td> <td>    5.164</td> <td> 0.000</td> <td>    0.294</td> <td>    0.654</td>\n",
       "</tr>\n",
       "</table>"
      ],
      "text/plain": [
       "<class 'statsmodels.iolib.summary.Summary'>\n",
       "\"\"\"\n",
       "                           Logit Regression Results                           \n",
       "==============================================================================\n",
       "Dep. Variable:               canceled   No. Observations:                20000\n",
       "Model:                          Logit   Df Residuals:                    19980\n",
       "Method:                           MLE   Df Model:                           19\n",
       "Date:                Tue, 11 Dec 2018   Pseudo R-squ.:                  0.1048\n",
       "Time:                        02:08:01   Log-Likelihood:                -9630.5\n",
       "converged:                       True   LL-Null:                       -10758.\n",
       "                                        LLR p-value:                     0.000\n",
       "=========================================================================================\n",
       "                            coef    std err          z      P>|z|      [0.025      0.975]\n",
       "-----------------------------------------------------------------------------------------\n",
       "Intercept                -2.5936      0.096    -27.103      0.000      -2.781      -2.406\n",
       "distance_from_center      0.0002   9.69e-06     15.706      0.000       0.000       0.000\n",
       "period_Evening           -0.1872      0.061     -3.089      0.002      -0.306      -0.068\n",
       "period_Late_afternoon     0.0601      0.057      1.046      0.296      -0.053       0.173\n",
       "period_Late_evening       0.0131      0.075      0.176      0.861      -0.133       0.159\n",
       "period_Morning           -0.3857      0.062     -6.181      0.000      -0.508      -0.263\n",
       "period_Night             -0.0779      0.059     -1.315      0.189      -0.194       0.038\n",
       "weekday_Monday           -0.0124      0.063     -0.197      0.844      -0.136       0.111\n",
       "weekday_Saturday         -0.1552      0.065     -2.386      0.017      -0.283      -0.028\n",
       "weekday_Sunday            0.1380      0.064      2.158      0.031       0.013       0.263\n",
       "weekday_Thursday         -0.3864      0.069     -5.609      0.000      -0.521      -0.251\n",
       "weekday_Tuesday          -0.2026      0.066     -3.068      0.002      -0.332      -0.073\n",
       "weekday_Wednesday        -0.0882      0.064     -1.372      0.170      -0.214       0.038\n",
       "month_Dec                 4.2139      0.425      9.923      0.000       3.382       5.046\n",
       "month_Feb                 0.5690      0.098      5.789      0.000       0.376       0.762\n",
       "month_Jan                 2.1484      0.083     25.864      0.000       1.986       2.311\n",
       "month_Jul                 1.6817      0.081     20.650      0.000       1.522       1.841\n",
       "month_Jun                 1.0566      0.083     12.675      0.000       0.893       1.220\n",
       "month_Mar                 0.3148      0.100      3.159      0.002       0.120       0.510\n",
       "month_May                 0.4739      0.092      5.164      0.000       0.294       0.654\n",
       "=========================================================================================\n",
       "\"\"\""
      ]
     },
     "execution_count": 42,
     "metadata": {},
     "output_type": "execute_result"
    }
   ],
   "source": [
    "logit_summary=Logit.from_formula(formula=formula,data=df).fit()\n",
    "logit_summary.summary()"
   ]
  },
  {
   "cell_type": "code",
   "execution_count": 43,
   "metadata": {},
   "outputs": [],
   "source": [
    "# references=== April, Friday, Afternoon"
   ]
  },
  {
   "cell_type": "code",
   "execution_count": 44,
   "metadata": {},
   "outputs": [
    {
     "data": {
      "text/html": [
       "<table class=\"simpletable\">\n",
       "<caption>Logit Marginal Effects</caption>\n",
       "<tr>\n",
       "  <th>Dep. Variable:</th> <td>canceled</td>\n",
       "</tr>\n",
       "<tr>\n",
       "  <th>Method:</th>          <td>dydx</td>  \n",
       "</tr>\n",
       "<tr>\n",
       "  <th>At:</th>             <td>overall</td>\n",
       "</tr>\n",
       "</table>\n",
       "<table class=\"simpletable\">\n",
       "<tr>\n",
       "            <th></th>               <th>dy/dx</th>    <th>std err</th>      <th>z</th>      <th>P>|z|</th>  <th>[0.025</th>    <th>0.975]</th>  \n",
       "</tr>\n",
       "<tr>\n",
       "  <th>distance_from_center</th>  <td> 2.372e-05</td> <td> 1.48e-06</td> <td>   16.005</td> <td> 0.000</td> <td> 2.08e-05</td> <td> 2.66e-05</td>\n",
       "</tr>\n",
       "<tr>\n",
       "  <th>period_Evening</th>        <td>   -0.0292</td> <td>    0.009</td> <td>   -3.091</td> <td> 0.002</td> <td>   -0.048</td> <td>   -0.011</td>\n",
       "</tr>\n",
       "<tr>\n",
       "  <th>period_Late_afternoon</th> <td>    0.0094</td> <td>    0.009</td> <td>    1.046</td> <td> 0.295</td> <td>   -0.008</td> <td>    0.027</td>\n",
       "</tr>\n",
       "<tr>\n",
       "  <th>period_Late_evening</th>   <td>    0.0020</td> <td>    0.012</td> <td>    0.176</td> <td> 0.861</td> <td>   -0.021</td> <td>    0.025</td>\n",
       "</tr>\n",
       "<tr>\n",
       "  <th>period_Morning</th>        <td>   -0.0601</td> <td>    0.010</td> <td>   -6.198</td> <td> 0.000</td> <td>   -0.079</td> <td>   -0.041</td>\n",
       "</tr>\n",
       "<tr>\n",
       "  <th>period_Night</th>          <td>   -0.0122</td> <td>    0.009</td> <td>   -1.315</td> <td> 0.189</td> <td>   -0.030</td> <td>    0.006</td>\n",
       "</tr>\n",
       "<tr>\n",
       "  <th>weekday_Monday</th>        <td>   -0.0019</td> <td>    0.010</td> <td>   -0.197</td> <td> 0.844</td> <td>   -0.021</td> <td>    0.017</td>\n",
       "</tr>\n",
       "<tr>\n",
       "  <th>weekday_Saturday</th>      <td>   -0.0242</td> <td>    0.010</td> <td>   -2.387</td> <td> 0.017</td> <td>   -0.044</td> <td>   -0.004</td>\n",
       "</tr>\n",
       "<tr>\n",
       "  <th>weekday_Sunday</th>        <td>    0.0215</td> <td>    0.010</td> <td>    2.159</td> <td> 0.031</td> <td>    0.002</td> <td>    0.041</td>\n",
       "</tr>\n",
       "<tr>\n",
       "  <th>weekday_Thursday</th>      <td>   -0.0603</td> <td>    0.011</td> <td>   -5.621</td> <td> 0.000</td> <td>   -0.081</td> <td>   -0.039</td>\n",
       "</tr>\n",
       "<tr>\n",
       "  <th>weekday_Tuesday</th>       <td>   -0.0316</td> <td>    0.010</td> <td>   -3.070</td> <td> 0.002</td> <td>   -0.052</td> <td>   -0.011</td>\n",
       "</tr>\n",
       "<tr>\n",
       "  <th>weekday_Wednesday</th>     <td>   -0.0138</td> <td>    0.010</td> <td>   -1.372</td> <td> 0.170</td> <td>   -0.033</td> <td>    0.006</td>\n",
       "</tr>\n",
       "<tr>\n",
       "  <th>month_Dec</th>             <td>    0.6571</td> <td>    0.066</td> <td>    9.997</td> <td> 0.000</td> <td>    0.528</td> <td>    0.786</td>\n",
       "</tr>\n",
       "<tr>\n",
       "  <th>month_Feb</th>             <td>    0.0887</td> <td>    0.015</td> <td>    5.794</td> <td> 0.000</td> <td>    0.059</td> <td>    0.119</td>\n",
       "</tr>\n",
       "<tr>\n",
       "  <th>month_Jan</th>             <td>    0.3350</td> <td>    0.012</td> <td>   27.076</td> <td> 0.000</td> <td>    0.311</td> <td>    0.359</td>\n",
       "</tr>\n",
       "<tr>\n",
       "  <th>month_Jul</th>             <td>    0.2622</td> <td>    0.012</td> <td>   21.141</td> <td> 0.000</td> <td>    0.238</td> <td>    0.287</td>\n",
       "</tr>\n",
       "<tr>\n",
       "  <th>month_Jun</th>             <td>    0.1648</td> <td>    0.013</td> <td>   12.750</td> <td> 0.000</td> <td>    0.139</td> <td>    0.190</td>\n",
       "</tr>\n",
       "<tr>\n",
       "  <th>month_Mar</th>             <td>    0.0491</td> <td>    0.016</td> <td>    3.160</td> <td> 0.002</td> <td>    0.019</td> <td>    0.080</td>\n",
       "</tr>\n",
       "<tr>\n",
       "  <th>month_May</th>             <td>    0.0739</td> <td>    0.014</td> <td>    5.167</td> <td> 0.000</td> <td>    0.046</td> <td>    0.102</td>\n",
       "</tr>\n",
       "</table>"
      ],
      "text/plain": [
       "<class 'statsmodels.iolib.summary.Summary'>\n",
       "\"\"\"\n",
       "        Logit Marginal Effects       \n",
       "=====================================\n",
       "Dep. Variable:               canceled\n",
       "Method:                          dydx\n",
       "At:                           overall\n",
       "=========================================================================================\n",
       "                           dy/dx    std err          z      P>|z|      [0.025      0.975]\n",
       "-----------------------------------------------------------------------------------------\n",
       "distance_from_center   2.372e-05   1.48e-06     16.005      0.000    2.08e-05    2.66e-05\n",
       "period_Evening           -0.0292      0.009     -3.091      0.002      -0.048      -0.011\n",
       "period_Late_afternoon     0.0094      0.009      1.046      0.295      -0.008       0.027\n",
       "period_Late_evening       0.0020      0.012      0.176      0.861      -0.021       0.025\n",
       "period_Morning           -0.0601      0.010     -6.198      0.000      -0.079      -0.041\n",
       "period_Night             -0.0122      0.009     -1.315      0.189      -0.030       0.006\n",
       "weekday_Monday           -0.0019      0.010     -0.197      0.844      -0.021       0.017\n",
       "weekday_Saturday         -0.0242      0.010     -2.387      0.017      -0.044      -0.004\n",
       "weekday_Sunday            0.0215      0.010      2.159      0.031       0.002       0.041\n",
       "weekday_Thursday         -0.0603      0.011     -5.621      0.000      -0.081      -0.039\n",
       "weekday_Tuesday          -0.0316      0.010     -3.070      0.002      -0.052      -0.011\n",
       "weekday_Wednesday        -0.0138      0.010     -1.372      0.170      -0.033       0.006\n",
       "month_Dec                 0.6571      0.066      9.997      0.000       0.528       0.786\n",
       "month_Feb                 0.0887      0.015      5.794      0.000       0.059       0.119\n",
       "month_Jan                 0.3350      0.012     27.076      0.000       0.311       0.359\n",
       "month_Jul                 0.2622      0.012     21.141      0.000       0.238       0.287\n",
       "month_Jun                 0.1648      0.013     12.750      0.000       0.139       0.190\n",
       "month_Mar                 0.0491      0.016      3.160      0.002       0.019       0.080\n",
       "month_May                 0.0739      0.014      5.167      0.000       0.046       0.102\n",
       "=========================================================================================\n",
       "\"\"\""
      ]
     },
     "execution_count": 44,
     "metadata": {},
     "output_type": "execute_result"
    }
   ],
   "source": [
    "logit_summary.get_margeff().summary()"
   ]
  },
  {
   "cell_type": "markdown",
   "metadata": {},
   "source": [
    "# Random Forest"
   ]
  },
  {
   "cell_type": "code",
   "execution_count": 45,
   "metadata": {},
   "outputs": [
    {
     "data": {
      "image/png": "[encoded data removed]",
      "text/plain": [
       "<Figure size 432x288 with 1 Axes>"
      ]
     },
     "metadata": {},
     "output_type": "display_data"
    }
   ],
   "source": [
    "for i in range(20,180,20):\n",
    "    RF=RandomForestClassifier(class_weight=\"balanced\",max_depth=best_params[0],min_samples_leaf=best_params[1],n_estimators=i,\n",
    "                          random_state=42).fit(X_train,Y_train)\n",
    "    plt.scatter(x=i,y=roc_auc_score(Y_test,RF.predict(X_test)).round(4)*100, s=200)"
   ]
  },
  {
   "cell_type": "code",
   "execution_count": 46,
   "metadata": {},
   "outputs": [],
   "source": [
    "RF=RandomForestClassifier(class_weight=\"balanced\",max_depth=best_params[0],min_samples_leaf=best_params[1],n_estimators=60,random_state=42)\n",
    "RF=RF.fit(X_train,Y_train)"
   ]
  },
  {
   "cell_type": "code",
   "execution_count": 47,
   "metadata": {},
   "outputs": [
    {
     "name": "stdout",
     "output_type": "stream",
     "text": [
      "Decision Tree \n",
      "\n",
      "Recall_train: 64.51\n",
      "Recall_test: 59.540000000000006\n",
      "Specificity train: 72.8\n",
      "Specificity test: 70.78\n",
      "ROC_AUC_train: 73.95\n",
      "ROC_AUC_test: 69.64\n",
      "Train scores: 70.91\n",
      "Test scores: 68.2\n",
      "-------------------------------\n",
      "Logistic Regression \n",
      "\n",
      "Recall_train: 64.84\n",
      "Recall_test: 62.92\n",
      "Specificity train: 68.82000000000001\n",
      "Specificity test: 68.08\n",
      "ROC_AUC_train: 72.3\n",
      "ROC_AUC_test: 70.76\n",
      "Train scores: 67.91\n",
      "Test scores: 66.9\n",
      "-------------------------------\n",
      "Random Forest \n",
      "\n",
      "Recall_train: 61.480000000000004\n",
      "Recall_test: 59.650000000000006\n",
      "Specificity train: 73.08\n",
      "Specificity test: 71.85000000000001\n",
      "ROC_AUC_train: 73.35000000000001\n",
      "ROC_AUC_test: 70.26\n",
      "Train scores: 70.42\n",
      "Test scores: 69.05\n",
      "-------------------------------\n"
     ]
    }
   ],
   "source": [
    "models={\"Decision Tree\": tree,\"Logistic Regression\":logit,\"Random Forest\": RF}\n",
    "for j,i in models.items():\n",
    "    print(j,\"\\n\")\n",
    "    print(\"Recall_train:\",(recall_score(Y_train,i.predict(X_train))).round(4)*100)\n",
    "    print(\"Recall_test:\",(recall_score(Y_test,i.predict(X_test))).round(4)*100)\n",
    "    cm_train=pd.DataFrame(confusion_matrix(Y_train,i.predict(X_train))).T\n",
    "    cm_test=pd.DataFrame(confusion_matrix(Y_test,i.predict(X_test))).T\n",
    "    print( \"Specificity train:\",(cm_train.iloc[0,0]/(cm_train.iloc[0,0]+cm_train.iloc[1,0])).round(4)*100)\n",
    "    print( \"Specificity test:\",(cm_test.iloc[0,0]/(cm_test.iloc[0,0]+cm_test.iloc[1,0])).round(4)*100)\n",
    "    print(\"ROC_AUC_train:\",(roc_auc_score(Y_train,i.predict_proba(X_train)[:, -1])).round(4)*100)\n",
    "    print(\"ROC_AUC_test:\",(roc_auc_score(Y_test,i.predict_proba(X_test)[:, -1])).round(4)*100)\n",
    "    print(\"Train scores:\",(i.score(X_train,Y_train)).round(4)*100)\n",
    "    print(\"Test scores:\",(i.score(X_test,Y_test)).round(4)*100)\n",
    "    print(\"-------------------------------\")"
   ]
  }
 ],
 "metadata": {
  "kernelspec": {
   "display_name": "Python 3",
   "language": "python",
   "name": "python3"
  },
  "language_info": {
   "codemirror_mode": {
    "name": "ipython",
    "version": 3
   },
   "file_extension": ".py",
   "mimetype": "text/x-python",
   "name": "python",
   "nbconvert_exporter": "python",
   "pygments_lexer": "ipython3",
   "version": "3.6.5"
  }
 },
 "nbformat": 4,
 "nbformat_minor": 2
}
